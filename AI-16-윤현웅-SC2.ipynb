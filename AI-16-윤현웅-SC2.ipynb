{
  "cells": [
    {
      "cell_type": "code",
      "execution_count": null,
      "metadata": {
        "colab": {
          "base_uri": "https://localhost:8080/",
          "height": 108
        },
        "id": "y7x0pOVwNnYM",
        "outputId": "fcf0088b-9609-4b01-9995-c122d896ba40"
      },
      "outputs": [
        {
          "output_type": "display_data",
          "data": {
            "text/plain": [
              "<IPython.core.display.HTML object>"
            ],
            "text/html": [
              "\n",
              "     <input type=\"file\" id=\"files-576231e7-de1c-4c6a-a400-7bd99420ce4a\" name=\"files[]\" multiple disabled\n",
              "        style=\"border:none\" />\n",
              "     <output id=\"result-576231e7-de1c-4c6a-a400-7bd99420ce4a\">\n",
              "      Upload widget is only available when the cell has been executed in the\n",
              "      current browser session. Please rerun this cell to enable.\n",
              "      </output>\n",
              "      <script>// Copyright 2017 Google LLC\n",
              "//\n",
              "// Licensed under the Apache License, Version 2.0 (the \"License\");\n",
              "// you may not use this file except in compliance with the License.\n",
              "// You may obtain a copy of the License at\n",
              "//\n",
              "//      http://www.apache.org/licenses/LICENSE-2.0\n",
              "//\n",
              "// Unless required by applicable law or agreed to in writing, software\n",
              "// distributed under the License is distributed on an \"AS IS\" BASIS,\n",
              "// WITHOUT WARRANTIES OR CONDITIONS OF ANY KIND, either express or implied.\n",
              "// See the License for the specific language governing permissions and\n",
              "// limitations under the License.\n",
              "\n",
              "/**\n",
              " * @fileoverview Helpers for google.colab Python module.\n",
              " */\n",
              "(function(scope) {\n",
              "function span(text, styleAttributes = {}) {\n",
              "  const element = document.createElement('span');\n",
              "  element.textContent = text;\n",
              "  for (const key of Object.keys(styleAttributes)) {\n",
              "    element.style[key] = styleAttributes[key];\n",
              "  }\n",
              "  return element;\n",
              "}\n",
              "\n",
              "// Max number of bytes which will be uploaded at a time.\n",
              "const MAX_PAYLOAD_SIZE = 100 * 1024;\n",
              "\n",
              "function _uploadFiles(inputId, outputId) {\n",
              "  const steps = uploadFilesStep(inputId, outputId);\n",
              "  const outputElement = document.getElementById(outputId);\n",
              "  // Cache steps on the outputElement to make it available for the next call\n",
              "  // to uploadFilesContinue from Python.\n",
              "  outputElement.steps = steps;\n",
              "\n",
              "  return _uploadFilesContinue(outputId);\n",
              "}\n",
              "\n",
              "// This is roughly an async generator (not supported in the browser yet),\n",
              "// where there are multiple asynchronous steps and the Python side is going\n",
              "// to poll for completion of each step.\n",
              "// This uses a Promise to block the python side on completion of each step,\n",
              "// then passes the result of the previous step as the input to the next step.\n",
              "function _uploadFilesContinue(outputId) {\n",
              "  const outputElement = document.getElementById(outputId);\n",
              "  const steps = outputElement.steps;\n",
              "\n",
              "  const next = steps.next(outputElement.lastPromiseValue);\n",
              "  return Promise.resolve(next.value.promise).then((value) => {\n",
              "    // Cache the last promise value to make it available to the next\n",
              "    // step of the generator.\n",
              "    outputElement.lastPromiseValue = value;\n",
              "    return next.value.response;\n",
              "  });\n",
              "}\n",
              "\n",
              "/**\n",
              " * Generator function which is called between each async step of the upload\n",
              " * process.\n",
              " * @param {string} inputId Element ID of the input file picker element.\n",
              " * @param {string} outputId Element ID of the output display.\n",
              " * @return {!Iterable<!Object>} Iterable of next steps.\n",
              " */\n",
              "function* uploadFilesStep(inputId, outputId) {\n",
              "  const inputElement = document.getElementById(inputId);\n",
              "  inputElement.disabled = false;\n",
              "\n",
              "  const outputElement = document.getElementById(outputId);\n",
              "  outputElement.innerHTML = '';\n",
              "\n",
              "  const pickedPromise = new Promise((resolve) => {\n",
              "    inputElement.addEventListener('change', (e) => {\n",
              "      resolve(e.target.files);\n",
              "    });\n",
              "  });\n",
              "\n",
              "  const cancel = document.createElement('button');\n",
              "  inputElement.parentElement.appendChild(cancel);\n",
              "  cancel.textContent = 'Cancel upload';\n",
              "  const cancelPromise = new Promise((resolve) => {\n",
              "    cancel.onclick = () => {\n",
              "      resolve(null);\n",
              "    };\n",
              "  });\n",
              "\n",
              "  // Wait for the user to pick the files.\n",
              "  const files = yield {\n",
              "    promise: Promise.race([pickedPromise, cancelPromise]),\n",
              "    response: {\n",
              "      action: 'starting',\n",
              "    }\n",
              "  };\n",
              "\n",
              "  cancel.remove();\n",
              "\n",
              "  // Disable the input element since further picks are not allowed.\n",
              "  inputElement.disabled = true;\n",
              "\n",
              "  if (!files) {\n",
              "    return {\n",
              "      response: {\n",
              "        action: 'complete',\n",
              "      }\n",
              "    };\n",
              "  }\n",
              "\n",
              "  for (const file of files) {\n",
              "    const li = document.createElement('li');\n",
              "    li.append(span(file.name, {fontWeight: 'bold'}));\n",
              "    li.append(span(\n",
              "        `(${file.type || 'n/a'}) - ${file.size} bytes, ` +\n",
              "        `last modified: ${\n",
              "            file.lastModifiedDate ? file.lastModifiedDate.toLocaleDateString() :\n",
              "                                    'n/a'} - `));\n",
              "    const percent = span('0% done');\n",
              "    li.appendChild(percent);\n",
              "\n",
              "    outputElement.appendChild(li);\n",
              "\n",
              "    const fileDataPromise = new Promise((resolve) => {\n",
              "      const reader = new FileReader();\n",
              "      reader.onload = (e) => {\n",
              "        resolve(e.target.result);\n",
              "      };\n",
              "      reader.readAsArrayBuffer(file);\n",
              "    });\n",
              "    // Wait for the data to be ready.\n",
              "    let fileData = yield {\n",
              "      promise: fileDataPromise,\n",
              "      response: {\n",
              "        action: 'continue',\n",
              "      }\n",
              "    };\n",
              "\n",
              "    // Use a chunked sending to avoid message size limits. See b/62115660.\n",
              "    let position = 0;\n",
              "    do {\n",
              "      const length = Math.min(fileData.byteLength - position, MAX_PAYLOAD_SIZE);\n",
              "      const chunk = new Uint8Array(fileData, position, length);\n",
              "      position += length;\n",
              "\n",
              "      const base64 = btoa(String.fromCharCode.apply(null, chunk));\n",
              "      yield {\n",
              "        response: {\n",
              "          action: 'append',\n",
              "          file: file.name,\n",
              "          data: base64,\n",
              "        },\n",
              "      };\n",
              "\n",
              "      let percentDone = fileData.byteLength === 0 ?\n",
              "          100 :\n",
              "          Math.round((position / fileData.byteLength) * 100);\n",
              "      percent.textContent = `${percentDone}% done`;\n",
              "\n",
              "    } while (position < fileData.byteLength);\n",
              "  }\n",
              "\n",
              "  // All done.\n",
              "  yield {\n",
              "    response: {\n",
              "      action: 'complete',\n",
              "    }\n",
              "  };\n",
              "}\n",
              "\n",
              "scope.google = scope.google || {};\n",
              "scope.google.colab = scope.google.colab || {};\n",
              "scope.google.colab._files = {\n",
              "  _uploadFiles,\n",
              "  _uploadFilesContinue,\n",
              "};\n",
              "})(self);\n",
              "</script> "
            ]
          },
          "metadata": {}
        },
        {
          "output_type": "stream",
          "name": "stdout",
          "text": [
            "Saving test.csv to test.csv\n",
            "Saving train.csv to train.csv\n"
          ]
        }
      ],
      "source": [
        "import pandas as pd\n",
        "import numpy as np\n",
        "from google.colab import files\n",
        "files.upload();"
      ]
    },
    {
      "cell_type": "code",
      "execution_count": null,
      "metadata": {
        "colab": {
          "base_uri": "https://localhost:8080/",
          "height": 236
        },
        "id": "N7Php3FYNxxC",
        "outputId": "55aaa20e-d493-4c2b-fcd0-066c09258375"
      },
      "outputs": [
        {
          "output_type": "execute_result",
          "data": {
            "text/plain": [
              "            ID COMPONENT_ARBITRARY  ANONYMOUS_1  YEAR  SAMPLE_TRANSFER_DAY  \\\n",
              "0  TRAIN_00000          COMPONENT3         1486  2011                    7   \n",
              "1  TRAIN_00001          COMPONENT2         1350  2021                   51   \n",
              "2  TRAIN_00002          COMPONENT2         2415  2015                    2   \n",
              "3  TRAIN_00003          COMPONENT3         7389  2010                    2   \n",
              "4  TRAIN_00004          COMPONENT3         3954  2015                    4   \n",
              "\n",
              "   ANONYMOUS_2  AG   AL    B  BA  ...  U25  U20   U14       U6       U4  V  \\\n",
              "0          200   0    3   93   0  ...  NaN  NaN   NaN      NaN      NaN  0   \n",
              "1          375   0    2   19   0  ...  2.0  4.0   6.0    216.0   1454.0  0   \n",
              "2          200   0  110    1   1  ...  0.0  3.0  39.0  11261.0  41081.0  0   \n",
              "3          200   0    8    3   0  ...  NaN  NaN   NaN      NaN      NaN  0   \n",
              "4          200   0    1  157   0  ...  NaN  NaN   NaN      NaN      NaN  0   \n",
              "\n",
              "   V100    V40   ZN  Y_LABEL  \n",
              "0   NaN  154.0   75        0  \n",
              "1   NaN   44.0  652        0  \n",
              "2   NaN   72.6  412        1  \n",
              "3   NaN  133.3    7        0  \n",
              "4   NaN  133.1  128        0  \n",
              "\n",
              "[5 rows x 54 columns]"
            ],
            "text/html": [
              "\n",
              "  <div id=\"df-70baaaa6-4d56-4edf-85c3-bc847b1a9c3e\">\n",
              "    <div class=\"colab-df-container\">\n",
              "      <div>\n",
              "<style scoped>\n",
              "    .dataframe tbody tr th:only-of-type {\n",
              "        vertical-align: middle;\n",
              "    }\n",
              "\n",
              "    .dataframe tbody tr th {\n",
              "        vertical-align: top;\n",
              "    }\n",
              "\n",
              "    .dataframe thead th {\n",
              "        text-align: right;\n",
              "    }\n",
              "</style>\n",
              "<table border=\"1\" class=\"dataframe\">\n",
              "  <thead>\n",
              "    <tr style=\"text-align: right;\">\n",
              "      <th></th>\n",
              "      <th>ID</th>\n",
              "      <th>COMPONENT_ARBITRARY</th>\n",
              "      <th>ANONYMOUS_1</th>\n",
              "      <th>YEAR</th>\n",
              "      <th>SAMPLE_TRANSFER_DAY</th>\n",
              "      <th>ANONYMOUS_2</th>\n",
              "      <th>AG</th>\n",
              "      <th>AL</th>\n",
              "      <th>B</th>\n",
              "      <th>BA</th>\n",
              "      <th>...</th>\n",
              "      <th>U25</th>\n",
              "      <th>U20</th>\n",
              "      <th>U14</th>\n",
              "      <th>U6</th>\n",
              "      <th>U4</th>\n",
              "      <th>V</th>\n",
              "      <th>V100</th>\n",
              "      <th>V40</th>\n",
              "      <th>ZN</th>\n",
              "      <th>Y_LABEL</th>\n",
              "    </tr>\n",
              "  </thead>\n",
              "  <tbody>\n",
              "    <tr>\n",
              "      <th>0</th>\n",
              "      <td>TRAIN_00000</td>\n",
              "      <td>COMPONENT3</td>\n",
              "      <td>1486</td>\n",
              "      <td>2011</td>\n",
              "      <td>7</td>\n",
              "      <td>200</td>\n",
              "      <td>0</td>\n",
              "      <td>3</td>\n",
              "      <td>93</td>\n",
              "      <td>0</td>\n",
              "      <td>...</td>\n",
              "      <td>NaN</td>\n",
              "      <td>NaN</td>\n",
              "      <td>NaN</td>\n",
              "      <td>NaN</td>\n",
              "      <td>NaN</td>\n",
              "      <td>0</td>\n",
              "      <td>NaN</td>\n",
              "      <td>154.0</td>\n",
              "      <td>75</td>\n",
              "      <td>0</td>\n",
              "    </tr>\n",
              "    <tr>\n",
              "      <th>1</th>\n",
              "      <td>TRAIN_00001</td>\n",
              "      <td>COMPONENT2</td>\n",
              "      <td>1350</td>\n",
              "      <td>2021</td>\n",
              "      <td>51</td>\n",
              "      <td>375</td>\n",
              "      <td>0</td>\n",
              "      <td>2</td>\n",
              "      <td>19</td>\n",
              "      <td>0</td>\n",
              "      <td>...</td>\n",
              "      <td>2.0</td>\n",
              "      <td>4.0</td>\n",
              "      <td>6.0</td>\n",
              "      <td>216.0</td>\n",
              "      <td>1454.0</td>\n",
              "      <td>0</td>\n",
              "      <td>NaN</td>\n",
              "      <td>44.0</td>\n",
              "      <td>652</td>\n",
              "      <td>0</td>\n",
              "    </tr>\n",
              "    <tr>\n",
              "      <th>2</th>\n",
              "      <td>TRAIN_00002</td>\n",
              "      <td>COMPONENT2</td>\n",
              "      <td>2415</td>\n",
              "      <td>2015</td>\n",
              "      <td>2</td>\n",
              "      <td>200</td>\n",
              "      <td>0</td>\n",
              "      <td>110</td>\n",
              "      <td>1</td>\n",
              "      <td>1</td>\n",
              "      <td>...</td>\n",
              "      <td>0.0</td>\n",
              "      <td>3.0</td>\n",
              "      <td>39.0</td>\n",
              "      <td>11261.0</td>\n",
              "      <td>41081.0</td>\n",
              "      <td>0</td>\n",
              "      <td>NaN</td>\n",
              "      <td>72.6</td>\n",
              "      <td>412</td>\n",
              "      <td>1</td>\n",
              "    </tr>\n",
              "    <tr>\n",
              "      <th>3</th>\n",
              "      <td>TRAIN_00003</td>\n",
              "      <td>COMPONENT3</td>\n",
              "      <td>7389</td>\n",
              "      <td>2010</td>\n",
              "      <td>2</td>\n",
              "      <td>200</td>\n",
              "      <td>0</td>\n",
              "      <td>8</td>\n",
              "      <td>3</td>\n",
              "      <td>0</td>\n",
              "      <td>...</td>\n",
              "      <td>NaN</td>\n",
              "      <td>NaN</td>\n",
              "      <td>NaN</td>\n",
              "      <td>NaN</td>\n",
              "      <td>NaN</td>\n",
              "      <td>0</td>\n",
              "      <td>NaN</td>\n",
              "      <td>133.3</td>\n",
              "      <td>7</td>\n",
              "      <td>0</td>\n",
              "    </tr>\n",
              "    <tr>\n",
              "      <th>4</th>\n",
              "      <td>TRAIN_00004</td>\n",
              "      <td>COMPONENT3</td>\n",
              "      <td>3954</td>\n",
              "      <td>2015</td>\n",
              "      <td>4</td>\n",
              "      <td>200</td>\n",
              "      <td>0</td>\n",
              "      <td>1</td>\n",
              "      <td>157</td>\n",
              "      <td>0</td>\n",
              "      <td>...</td>\n",
              "      <td>NaN</td>\n",
              "      <td>NaN</td>\n",
              "      <td>NaN</td>\n",
              "      <td>NaN</td>\n",
              "      <td>NaN</td>\n",
              "      <td>0</td>\n",
              "      <td>NaN</td>\n",
              "      <td>133.1</td>\n",
              "      <td>128</td>\n",
              "      <td>0</td>\n",
              "    </tr>\n",
              "  </tbody>\n",
              "</table>\n",
              "<p>5 rows × 54 columns</p>\n",
              "</div>\n",
              "      <button class=\"colab-df-convert\" onclick=\"convertToInteractive('df-70baaaa6-4d56-4edf-85c3-bc847b1a9c3e')\"\n",
              "              title=\"Convert this dataframe to an interactive table.\"\n",
              "              style=\"display:none;\">\n",
              "        \n",
              "  <svg xmlns=\"http://www.w3.org/2000/svg\" height=\"24px\"viewBox=\"0 0 24 24\"\n",
              "       width=\"24px\">\n",
              "    <path d=\"M0 0h24v24H0V0z\" fill=\"none\"/>\n",
              "    <path d=\"M18.56 5.44l.94 2.06.94-2.06 2.06-.94-2.06-.94-.94-2.06-.94 2.06-2.06.94zm-11 1L8.5 8.5l.94-2.06 2.06-.94-2.06-.94L8.5 2.5l-.94 2.06-2.06.94zm10 10l.94 2.06.94-2.06 2.06-.94-2.06-.94-.94-2.06-.94 2.06-2.06.94z\"/><path d=\"M17.41 7.96l-1.37-1.37c-.4-.4-.92-.59-1.43-.59-.52 0-1.04.2-1.43.59L10.3 9.45l-7.72 7.72c-.78.78-.78 2.05 0 2.83L4 21.41c.39.39.9.59 1.41.59.51 0 1.02-.2 1.41-.59l7.78-7.78 2.81-2.81c.8-.78.8-2.07 0-2.86zM5.41 20L4 18.59l7.72-7.72 1.47 1.35L5.41 20z\"/>\n",
              "  </svg>\n",
              "      </button>\n",
              "      \n",
              "  <style>\n",
              "    .colab-df-container {\n",
              "      display:flex;\n",
              "      flex-wrap:wrap;\n",
              "      gap: 12px;\n",
              "    }\n",
              "\n",
              "    .colab-df-convert {\n",
              "      background-color: #E8F0FE;\n",
              "      border: none;\n",
              "      border-radius: 50%;\n",
              "      cursor: pointer;\n",
              "      display: none;\n",
              "      fill: #1967D2;\n",
              "      height: 32px;\n",
              "      padding: 0 0 0 0;\n",
              "      width: 32px;\n",
              "    }\n",
              "\n",
              "    .colab-df-convert:hover {\n",
              "      background-color: #E2EBFA;\n",
              "      box-shadow: 0px 1px 2px rgba(60, 64, 67, 0.3), 0px 1px 3px 1px rgba(60, 64, 67, 0.15);\n",
              "      fill: #174EA6;\n",
              "    }\n",
              "\n",
              "    [theme=dark] .colab-df-convert {\n",
              "      background-color: #3B4455;\n",
              "      fill: #D2E3FC;\n",
              "    }\n",
              "\n",
              "    [theme=dark] .colab-df-convert:hover {\n",
              "      background-color: #434B5C;\n",
              "      box-shadow: 0px 1px 3px 1px rgba(0, 0, 0, 0.15);\n",
              "      filter: drop-shadow(0px 1px 2px rgba(0, 0, 0, 0.3));\n",
              "      fill: #FFFFFF;\n",
              "    }\n",
              "  </style>\n",
              "\n",
              "      <script>\n",
              "        const buttonEl =\n",
              "          document.querySelector('#df-70baaaa6-4d56-4edf-85c3-bc847b1a9c3e button.colab-df-convert');\n",
              "        buttonEl.style.display =\n",
              "          google.colab.kernel.accessAllowed ? 'block' : 'none';\n",
              "\n",
              "        async function convertToInteractive(key) {\n",
              "          const element = document.querySelector('#df-70baaaa6-4d56-4edf-85c3-bc847b1a9c3e');\n",
              "          const dataTable =\n",
              "            await google.colab.kernel.invokeFunction('convertToInteractive',\n",
              "                                                     [key], {});\n",
              "          if (!dataTable) return;\n",
              "\n",
              "          const docLinkHtml = 'Like what you see? Visit the ' +\n",
              "            '<a target=\"_blank\" href=https://colab.research.google.com/notebooks/data_table.ipynb>data table notebook</a>'\n",
              "            + ' to learn more about interactive tables.';\n",
              "          element.innerHTML = '';\n",
              "          dataTable['output_type'] = 'display_data';\n",
              "          await google.colab.output.renderOutput(dataTable, element);\n",
              "          const docLink = document.createElement('div');\n",
              "          docLink.innerHTML = docLinkHtml;\n",
              "          element.appendChild(docLink);\n",
              "        }\n",
              "      </script>\n",
              "    </div>\n",
              "  </div>\n",
              "  "
            ]
          },
          "metadata": {},
          "execution_count": 2
        }
      ],
      "source": [
        "train = pd.read_csv('train.csv')\n",
        "train.head()"
      ]
    },
    {
      "cell_type": "code",
      "execution_count": null,
      "metadata": {
        "id": "ZHdMT8yGODIX"
      },
      "outputs": [],
      "source": [
        "column_select = train.columns.tolist()\n",
        "column_num_to_save = [0,1,2, 3, 5, 6, 13, 14, 15, 22, 24, 28, 29, 31, 34, 40, 49, 51, 52, 53]\n",
        "new_column_list = []\n",
        "for num in column_num_to_save:\n",
        "  new_column_list.append(column_select[num])"
      ]
    },
    {
      "cell_type": "code",
      "execution_count": null,
      "metadata": {
        "id": "EFnWtyN4Ocy9"
      },
      "outputs": [],
      "source": [
        "df = train[new_column_list]"
      ]
    },
    {
      "cell_type": "code",
      "execution_count": null,
      "metadata": {
        "colab": {
          "base_uri": "https://localhost:8080/",
          "height": 424
        },
        "id": "yvZiKUuVPeig",
        "outputId": "e5abf0ec-a9be-46c5-934e-1137bb57ee1f"
      },
      "outputs": [
        {
          "output_type": "execute_result",
          "data": {
            "text/plain": [
              "      COMPONENT_ARBITRARY  ANONYMOUS_1  YEAR  ANONYMOUS_2  AG  CO  CR   CU  \\\n",
              "0              COMPONENT3         1486  2011          200   0   0  13   78   \n",
              "1              COMPONENT2         1350  2021          375   0   0   0   31   \n",
              "2              COMPONENT2         2415  2015          200   0   0   1    2   \n",
              "3              COMPONENT3         7389  2010          200   0   0   0    1   \n",
              "4              COMPONENT3         3954  2015          200   0   0   0    0   \n",
              "...                   ...          ...   ...          ...  ..  ..  ..  ...   \n",
              "14090          COMPONENT3         1616  2014          200   0   0   0    3   \n",
              "14091          COMPONENT1         2784  2013          200   0   0   0    2   \n",
              "14092          COMPONENT3         1788  2008          550   0   0   4    7   \n",
              "14093          COMPONENT2         2498  2009          550   0   0   0  170   \n",
              "14094          COMPONENT2         1902  2012          200   0   0   0  110   \n",
              "\n",
              "        FE  H2O  MN   MO  NI  PQINDEX  TI  V    V40    ZN  Y_LABEL  \n",
              "0      888  0.0  16    1   6     8504   5  0  154.0    75        0  \n",
              "1        2  0.0   0    0   0       19   0  0   44.0   652        0  \n",
              "2        4  0.0   0    0   0       17   0  0   72.6   412        1  \n",
              "3       37  0.0   1    0   0       44   0  0  133.3     7        0  \n",
              "4       71  0.0   0    0   0      217   0  0  133.1   128        0  \n",
              "...    ...  ...  ..  ...  ..      ...  .. ..    ...   ...      ...  \n",
              "14090   23  0.0   0    0   0       35   0  0  135.4    16        0  \n",
              "14091   12  0.0   0  224   0        9   0  0  117.5  1408        0  \n",
              "14092  415  0.0   7   10   1      645   0  0   54.0  1301        0  \n",
              "14093   19  0.0   0    1   0       11   0  0   44.3   652        0  \n",
              "14094   10  0.0   0    0   0       81   2  0   47.0   612        0  \n",
              "\n",
              "[14095 rows x 19 columns]"
            ],
            "text/html": [
              "\n",
              "  <div id=\"df-f3afa5fa-c8a2-4689-99ed-0e4d88fe35e1\">\n",
              "    <div class=\"colab-df-container\">\n",
              "      <div>\n",
              "<style scoped>\n",
              "    .dataframe tbody tr th:only-of-type {\n",
              "        vertical-align: middle;\n",
              "    }\n",
              "\n",
              "    .dataframe tbody tr th {\n",
              "        vertical-align: top;\n",
              "    }\n",
              "\n",
              "    .dataframe thead th {\n",
              "        text-align: right;\n",
              "    }\n",
              "</style>\n",
              "<table border=\"1\" class=\"dataframe\">\n",
              "  <thead>\n",
              "    <tr style=\"text-align: right;\">\n",
              "      <th></th>\n",
              "      <th>COMPONENT_ARBITRARY</th>\n",
              "      <th>ANONYMOUS_1</th>\n",
              "      <th>YEAR</th>\n",
              "      <th>ANONYMOUS_2</th>\n",
              "      <th>AG</th>\n",
              "      <th>CO</th>\n",
              "      <th>CR</th>\n",
              "      <th>CU</th>\n",
              "      <th>FE</th>\n",
              "      <th>H2O</th>\n",
              "      <th>MN</th>\n",
              "      <th>MO</th>\n",
              "      <th>NI</th>\n",
              "      <th>PQINDEX</th>\n",
              "      <th>TI</th>\n",
              "      <th>V</th>\n",
              "      <th>V40</th>\n",
              "      <th>ZN</th>\n",
              "      <th>Y_LABEL</th>\n",
              "    </tr>\n",
              "  </thead>\n",
              "  <tbody>\n",
              "    <tr>\n",
              "      <th>0</th>\n",
              "      <td>COMPONENT3</td>\n",
              "      <td>1486</td>\n",
              "      <td>2011</td>\n",
              "      <td>200</td>\n",
              "      <td>0</td>\n",
              "      <td>0</td>\n",
              "      <td>13</td>\n",
              "      <td>78</td>\n",
              "      <td>888</td>\n",
              "      <td>0.0</td>\n",
              "      <td>16</td>\n",
              "      <td>1</td>\n",
              "      <td>6</td>\n",
              "      <td>8504</td>\n",
              "      <td>5</td>\n",
              "      <td>0</td>\n",
              "      <td>154.0</td>\n",
              "      <td>75</td>\n",
              "      <td>0</td>\n",
              "    </tr>\n",
              "    <tr>\n",
              "      <th>1</th>\n",
              "      <td>COMPONENT2</td>\n",
              "      <td>1350</td>\n",
              "      <td>2021</td>\n",
              "      <td>375</td>\n",
              "      <td>0</td>\n",
              "      <td>0</td>\n",
              "      <td>0</td>\n",
              "      <td>31</td>\n",
              "      <td>2</td>\n",
              "      <td>0.0</td>\n",
              "      <td>0</td>\n",
              "      <td>0</td>\n",
              "      <td>0</td>\n",
              "      <td>19</td>\n",
              "      <td>0</td>\n",
              "      <td>0</td>\n",
              "      <td>44.0</td>\n",
              "      <td>652</td>\n",
              "      <td>0</td>\n",
              "    </tr>\n",
              "    <tr>\n",
              "      <th>2</th>\n",
              "      <td>COMPONENT2</td>\n",
              "      <td>2415</td>\n",
              "      <td>2015</td>\n",
              "      <td>200</td>\n",
              "      <td>0</td>\n",
              "      <td>0</td>\n",
              "      <td>1</td>\n",
              "      <td>2</td>\n",
              "      <td>4</td>\n",
              "      <td>0.0</td>\n",
              "      <td>0</td>\n",
              "      <td>0</td>\n",
              "      <td>0</td>\n",
              "      <td>17</td>\n",
              "      <td>0</td>\n",
              "      <td>0</td>\n",
              "      <td>72.6</td>\n",
              "      <td>412</td>\n",
              "      <td>1</td>\n",
              "    </tr>\n",
              "    <tr>\n",
              "      <th>3</th>\n",
              "      <td>COMPONENT3</td>\n",
              "      <td>7389</td>\n",
              "      <td>2010</td>\n",
              "      <td>200</td>\n",
              "      <td>0</td>\n",
              "      <td>0</td>\n",
              "      <td>0</td>\n",
              "      <td>1</td>\n",
              "      <td>37</td>\n",
              "      <td>0.0</td>\n",
              "      <td>1</td>\n",
              "      <td>0</td>\n",
              "      <td>0</td>\n",
              "      <td>44</td>\n",
              "      <td>0</td>\n",
              "      <td>0</td>\n",
              "      <td>133.3</td>\n",
              "      <td>7</td>\n",
              "      <td>0</td>\n",
              "    </tr>\n",
              "    <tr>\n",
              "      <th>4</th>\n",
              "      <td>COMPONENT3</td>\n",
              "      <td>3954</td>\n",
              "      <td>2015</td>\n",
              "      <td>200</td>\n",
              "      <td>0</td>\n",
              "      <td>0</td>\n",
              "      <td>0</td>\n",
              "      <td>0</td>\n",
              "      <td>71</td>\n",
              "      <td>0.0</td>\n",
              "      <td>0</td>\n",
              "      <td>0</td>\n",
              "      <td>0</td>\n",
              "      <td>217</td>\n",
              "      <td>0</td>\n",
              "      <td>0</td>\n",
              "      <td>133.1</td>\n",
              "      <td>128</td>\n",
              "      <td>0</td>\n",
              "    </tr>\n",
              "    <tr>\n",
              "      <th>...</th>\n",
              "      <td>...</td>\n",
              "      <td>...</td>\n",
              "      <td>...</td>\n",
              "      <td>...</td>\n",
              "      <td>...</td>\n",
              "      <td>...</td>\n",
              "      <td>...</td>\n",
              "      <td>...</td>\n",
              "      <td>...</td>\n",
              "      <td>...</td>\n",
              "      <td>...</td>\n",
              "      <td>...</td>\n",
              "      <td>...</td>\n",
              "      <td>...</td>\n",
              "      <td>...</td>\n",
              "      <td>...</td>\n",
              "      <td>...</td>\n",
              "      <td>...</td>\n",
              "      <td>...</td>\n",
              "    </tr>\n",
              "    <tr>\n",
              "      <th>14090</th>\n",
              "      <td>COMPONENT3</td>\n",
              "      <td>1616</td>\n",
              "      <td>2014</td>\n",
              "      <td>200</td>\n",
              "      <td>0</td>\n",
              "      <td>0</td>\n",
              "      <td>0</td>\n",
              "      <td>3</td>\n",
              "      <td>23</td>\n",
              "      <td>0.0</td>\n",
              "      <td>0</td>\n",
              "      <td>0</td>\n",
              "      <td>0</td>\n",
              "      <td>35</td>\n",
              "      <td>0</td>\n",
              "      <td>0</td>\n",
              "      <td>135.4</td>\n",
              "      <td>16</td>\n",
              "      <td>0</td>\n",
              "    </tr>\n",
              "    <tr>\n",
              "      <th>14091</th>\n",
              "      <td>COMPONENT1</td>\n",
              "      <td>2784</td>\n",
              "      <td>2013</td>\n",
              "      <td>200</td>\n",
              "      <td>0</td>\n",
              "      <td>0</td>\n",
              "      <td>0</td>\n",
              "      <td>2</td>\n",
              "      <td>12</td>\n",
              "      <td>0.0</td>\n",
              "      <td>0</td>\n",
              "      <td>224</td>\n",
              "      <td>0</td>\n",
              "      <td>9</td>\n",
              "      <td>0</td>\n",
              "      <td>0</td>\n",
              "      <td>117.5</td>\n",
              "      <td>1408</td>\n",
              "      <td>0</td>\n",
              "    </tr>\n",
              "    <tr>\n",
              "      <th>14092</th>\n",
              "      <td>COMPONENT3</td>\n",
              "      <td>1788</td>\n",
              "      <td>2008</td>\n",
              "      <td>550</td>\n",
              "      <td>0</td>\n",
              "      <td>0</td>\n",
              "      <td>4</td>\n",
              "      <td>7</td>\n",
              "      <td>415</td>\n",
              "      <td>0.0</td>\n",
              "      <td>7</td>\n",
              "      <td>10</td>\n",
              "      <td>1</td>\n",
              "      <td>645</td>\n",
              "      <td>0</td>\n",
              "      <td>0</td>\n",
              "      <td>54.0</td>\n",
              "      <td>1301</td>\n",
              "      <td>0</td>\n",
              "    </tr>\n",
              "    <tr>\n",
              "      <th>14093</th>\n",
              "      <td>COMPONENT2</td>\n",
              "      <td>2498</td>\n",
              "      <td>2009</td>\n",
              "      <td>550</td>\n",
              "      <td>0</td>\n",
              "      <td>0</td>\n",
              "      <td>0</td>\n",
              "      <td>170</td>\n",
              "      <td>19</td>\n",
              "      <td>0.0</td>\n",
              "      <td>0</td>\n",
              "      <td>1</td>\n",
              "      <td>0</td>\n",
              "      <td>11</td>\n",
              "      <td>0</td>\n",
              "      <td>0</td>\n",
              "      <td>44.3</td>\n",
              "      <td>652</td>\n",
              "      <td>0</td>\n",
              "    </tr>\n",
              "    <tr>\n",
              "      <th>14094</th>\n",
              "      <td>COMPONENT2</td>\n",
              "      <td>1902</td>\n",
              "      <td>2012</td>\n",
              "      <td>200</td>\n",
              "      <td>0</td>\n",
              "      <td>0</td>\n",
              "      <td>0</td>\n",
              "      <td>110</td>\n",
              "      <td>10</td>\n",
              "      <td>0.0</td>\n",
              "      <td>0</td>\n",
              "      <td>0</td>\n",
              "      <td>0</td>\n",
              "      <td>81</td>\n",
              "      <td>2</td>\n",
              "      <td>0</td>\n",
              "      <td>47.0</td>\n",
              "      <td>612</td>\n",
              "      <td>0</td>\n",
              "    </tr>\n",
              "  </tbody>\n",
              "</table>\n",
              "<p>14095 rows × 19 columns</p>\n",
              "</div>\n",
              "      <button class=\"colab-df-convert\" onclick=\"convertToInteractive('df-f3afa5fa-c8a2-4689-99ed-0e4d88fe35e1')\"\n",
              "              title=\"Convert this dataframe to an interactive table.\"\n",
              "              style=\"display:none;\">\n",
              "        \n",
              "  <svg xmlns=\"http://www.w3.org/2000/svg\" height=\"24px\"viewBox=\"0 0 24 24\"\n",
              "       width=\"24px\">\n",
              "    <path d=\"M0 0h24v24H0V0z\" fill=\"none\"/>\n",
              "    <path d=\"M18.56 5.44l.94 2.06.94-2.06 2.06-.94-2.06-.94-.94-2.06-.94 2.06-2.06.94zm-11 1L8.5 8.5l.94-2.06 2.06-.94-2.06-.94L8.5 2.5l-.94 2.06-2.06.94zm10 10l.94 2.06.94-2.06 2.06-.94-2.06-.94-.94-2.06-.94 2.06-2.06.94z\"/><path d=\"M17.41 7.96l-1.37-1.37c-.4-.4-.92-.59-1.43-.59-.52 0-1.04.2-1.43.59L10.3 9.45l-7.72 7.72c-.78.78-.78 2.05 0 2.83L4 21.41c.39.39.9.59 1.41.59.51 0 1.02-.2 1.41-.59l7.78-7.78 2.81-2.81c.8-.78.8-2.07 0-2.86zM5.41 20L4 18.59l7.72-7.72 1.47 1.35L5.41 20z\"/>\n",
              "  </svg>\n",
              "      </button>\n",
              "      \n",
              "  <style>\n",
              "    .colab-df-container {\n",
              "      display:flex;\n",
              "      flex-wrap:wrap;\n",
              "      gap: 12px;\n",
              "    }\n",
              "\n",
              "    .colab-df-convert {\n",
              "      background-color: #E8F0FE;\n",
              "      border: none;\n",
              "      border-radius: 50%;\n",
              "      cursor: pointer;\n",
              "      display: none;\n",
              "      fill: #1967D2;\n",
              "      height: 32px;\n",
              "      padding: 0 0 0 0;\n",
              "      width: 32px;\n",
              "    }\n",
              "\n",
              "    .colab-df-convert:hover {\n",
              "      background-color: #E2EBFA;\n",
              "      box-shadow: 0px 1px 2px rgba(60, 64, 67, 0.3), 0px 1px 3px 1px rgba(60, 64, 67, 0.15);\n",
              "      fill: #174EA6;\n",
              "    }\n",
              "\n",
              "    [theme=dark] .colab-df-convert {\n",
              "      background-color: #3B4455;\n",
              "      fill: #D2E3FC;\n",
              "    }\n",
              "\n",
              "    [theme=dark] .colab-df-convert:hover {\n",
              "      background-color: #434B5C;\n",
              "      box-shadow: 0px 1px 3px 1px rgba(0, 0, 0, 0.15);\n",
              "      filter: drop-shadow(0px 1px 2px rgba(0, 0, 0, 0.3));\n",
              "      fill: #FFFFFF;\n",
              "    }\n",
              "  </style>\n",
              "\n",
              "      <script>\n",
              "        const buttonEl =\n",
              "          document.querySelector('#df-f3afa5fa-c8a2-4689-99ed-0e4d88fe35e1 button.colab-df-convert');\n",
              "        buttonEl.style.display =\n",
              "          google.colab.kernel.accessAllowed ? 'block' : 'none';\n",
              "\n",
              "        async function convertToInteractive(key) {\n",
              "          const element = document.querySelector('#df-f3afa5fa-c8a2-4689-99ed-0e4d88fe35e1');\n",
              "          const dataTable =\n",
              "            await google.colab.kernel.invokeFunction('convertToInteractive',\n",
              "                                                     [key], {});\n",
              "          if (!dataTable) return;\n",
              "\n",
              "          const docLinkHtml = 'Like what you see? Visit the ' +\n",
              "            '<a target=\"_blank\" href=https://colab.research.google.com/notebooks/data_table.ipynb>data table notebook</a>'\n",
              "            + ' to learn more about interactive tables.';\n",
              "          element.innerHTML = '';\n",
              "          dataTable['output_type'] = 'display_data';\n",
              "          await google.colab.output.renderOutput(dataTable, element);\n",
              "          const docLink = document.createElement('div');\n",
              "          docLink.innerHTML = docLinkHtml;\n",
              "          element.appendChild(docLink);\n",
              "        }\n",
              "      </script>\n",
              "    </div>\n",
              "  </div>\n",
              "  "
            ]
          },
          "metadata": {},
          "execution_count": 5
        }
      ],
      "source": [
        "df = df.drop(columns = ['ID'])\n",
        "df"
      ]
    },
    {
      "cell_type": "code",
      "execution_count": null,
      "metadata": {
        "colab": {
          "base_uri": "https://localhost:8080/"
        },
        "id": "7OgyeNhfPlBz",
        "outputId": "1862e49d-7db7-4da9-ef4c-73e9f65517aa"
      },
      "outputs": [
        {
          "output_type": "execute_result",
          "data": {
            "text/plain": [
              "0    0.914651\n",
              "1    0.085349\n",
              "Name: Y_LABEL, dtype: float64"
            ]
          },
          "metadata": {},
          "execution_count": 6
        }
      ],
      "source": [
        "df.Y_LABEL.value_counts(normalize = True)"
      ]
    },
    {
      "cell_type": "code",
      "execution_count": null,
      "metadata": {
        "colab": {
          "base_uri": "https://localhost:8080/"
        },
        "id": "J-YJqyaXP-Bf",
        "outputId": "16dfcf7a-a231-4eed-ac25-355e41460f4f"
      },
      "outputs": [
        {
          "output_type": "execute_result",
          "data": {
            "text/plain": [
              "COMPONENT_ARBITRARY    0\n",
              "ANONYMOUS_1            0\n",
              "YEAR                   0\n",
              "ANONYMOUS_2            0\n",
              "AG                     0\n",
              "CO                     0\n",
              "CR                     0\n",
              "CU                     0\n",
              "FE                     0\n",
              "H2O                    0\n",
              "MN                     0\n",
              "MO                     0\n",
              "NI                     0\n",
              "PQINDEX                0\n",
              "TI                     0\n",
              "V                      0\n",
              "V40                    0\n",
              "ZN                     0\n",
              "Y_LABEL                0\n",
              "dtype: int64"
            ]
          },
          "metadata": {},
          "execution_count": 7
        }
      ],
      "source": [
        "df.isnull().sum()"
      ]
    },
    {
      "cell_type": "code",
      "execution_count": null,
      "metadata": {
        "id": "yOQAg91dQd-z",
        "colab": {
          "base_uri": "https://localhost:8080/"
        },
        "outputId": "4e8d622c-e1fd-48f6-c512-ffb0a36b6b0c"
      },
      "outputs": [
        {
          "output_type": "stream",
          "name": "stdout",
          "text": [
            "Looking in indexes: https://pypi.org/simple, https://us-python.pkg.dev/colab-wheels/public/simple/\n",
            "Collecting category_encoders\n",
            "  Downloading category_encoders-2.5.1.post0-py2.py3-none-any.whl (72 kB)\n",
            "\u001b[?25l\r\u001b[K     |████▌                           | 10 kB 21.0 MB/s eta 0:00:01\r\u001b[K     |█████████                       | 20 kB 23.1 MB/s eta 0:00:01\r\u001b[K     |█████████████▋                  | 30 kB 29.0 MB/s eta 0:00:01\r\u001b[K     |██████████████████              | 40 kB 15.5 MB/s eta 0:00:01\r\u001b[K     |██████████████████████▋         | 51 kB 13.7 MB/s eta 0:00:01\r\u001b[K     |███████████████████████████▏    | 61 kB 15.7 MB/s eta 0:00:01\r\u001b[K     |███████████████████████████████▊| 71 kB 17.4 MB/s eta 0:00:01\r\u001b[K     |████████████████████████████████| 72 kB 671 kB/s \n",
            "\u001b[?25hRequirement already satisfied: scikit-learn>=0.20.0 in /usr/local/lib/python3.8/dist-packages (from category_encoders) (1.0.2)\n",
            "Requirement already satisfied: numpy>=1.14.0 in /usr/local/lib/python3.8/dist-packages (from category_encoders) (1.21.6)\n",
            "Requirement already satisfied: statsmodels>=0.9.0 in /usr/local/lib/python3.8/dist-packages (from category_encoders) (0.12.2)\n",
            "Requirement already satisfied: patsy>=0.5.1 in /usr/local/lib/python3.8/dist-packages (from category_encoders) (0.5.3)\n",
            "Requirement already satisfied: scipy>=1.0.0 in /usr/local/lib/python3.8/dist-packages (from category_encoders) (1.7.3)\n",
            "Requirement already satisfied: pandas>=1.0.5 in /usr/local/lib/python3.8/dist-packages (from category_encoders) (1.3.5)\n",
            "Requirement already satisfied: pytz>=2017.3 in /usr/local/lib/python3.8/dist-packages (from pandas>=1.0.5->category_encoders) (2022.6)\n",
            "Requirement already satisfied: python-dateutil>=2.7.3 in /usr/local/lib/python3.8/dist-packages (from pandas>=1.0.5->category_encoders) (2.8.2)\n",
            "Requirement already satisfied: six in /usr/local/lib/python3.8/dist-packages (from patsy>=0.5.1->category_encoders) (1.15.0)\n",
            "Requirement already satisfied: joblib>=0.11 in /usr/local/lib/python3.8/dist-packages (from scikit-learn>=0.20.0->category_encoders) (1.2.0)\n",
            "Requirement already satisfied: threadpoolctl>=2.0.0 in /usr/local/lib/python3.8/dist-packages (from scikit-learn>=0.20.0->category_encoders) (3.1.0)\n",
            "Installing collected packages: category-encoders\n",
            "Successfully installed category-encoders-2.5.1.post0\n"
          ]
        }
      ],
      "source": [
        "!pip install category_encoders"
      ]
    },
    {
      "cell_type": "code",
      "execution_count": null,
      "metadata": {
        "id": "t7xAX3sHRSKt",
        "colab": {
          "base_uri": "https://localhost:8080/"
        },
        "outputId": "fccf3b6f-3c7e-4358-92b6-89f4362ae91f"
      },
      "outputs": [
        {
          "output_type": "stream",
          "name": "stdout",
          "text": [
            "Looking in indexes: https://pypi.org/simple, https://us-python.pkg.dev/colab-wheels/public/simple/\n",
            "Collecting pandas-profiling==3.1.0\n",
            "  Downloading pandas_profiling-3.1.0-py2.py3-none-any.whl (261 kB)\n",
            "\u001b[K     |████████████████████████████████| 261 kB 15.4 MB/s \n",
            "\u001b[?25hRequirement already satisfied: pydantic>=1.8.1 in /usr/local/lib/python3.8/dist-packages (from pandas-profiling==3.1.0) (1.10.2)\n",
            "Requirement already satisfied: markupsafe~=2.0.1 in /usr/local/lib/python3.8/dist-packages (from pandas-profiling==3.1.0) (2.0.1)\n",
            "Requirement already satisfied: seaborn>=0.10.1 in /usr/local/lib/python3.8/dist-packages (from pandas-profiling==3.1.0) (0.11.2)\n",
            "Collecting multimethod>=1.4\n",
            "  Downloading multimethod-1.9-py3-none-any.whl (10 kB)\n",
            "Requirement already satisfied: jinja2>=2.11.1 in /usr/local/lib/python3.8/dist-packages (from pandas-profiling==3.1.0) (2.11.3)\n",
            "Collecting visions[type_image_path]==0.7.4\n",
            "  Downloading visions-0.7.4-py3-none-any.whl (102 kB)\n",
            "\u001b[K     |████████████████████████████████| 102 kB 11.5 MB/s \n",
            "\u001b[?25hCollecting tangled-up-in-unicode==0.1.0\n",
            "  Downloading tangled_up_in_unicode-0.1.0-py3-none-any.whl (3.1 MB)\n",
            "\u001b[K     |████████████████████████████████| 3.1 MB 67.6 MB/s \n",
            "\u001b[?25hRequirement already satisfied: pandas!=1.0.0,!=1.0.1,!=1.0.2,!=1.1.0,>=0.25.3 in /usr/local/lib/python3.8/dist-packages (from pandas-profiling==3.1.0) (1.3.5)\n",
            "Requirement already satisfied: numpy>=1.16.0 in /usr/local/lib/python3.8/dist-packages (from pandas-profiling==3.1.0) (1.21.6)\n",
            "Collecting requests>=2.24.0\n",
            "  Downloading requests-2.28.1-py3-none-any.whl (62 kB)\n",
            "\u001b[K     |████████████████████████████████| 62 kB 1.5 MB/s \n",
            "\u001b[?25hRequirement already satisfied: matplotlib>=3.2.0 in /usr/local/lib/python3.8/dist-packages (from pandas-profiling==3.1.0) (3.2.2)\n",
            "Requirement already satisfied: PyYAML>=5.0.0 in /usr/local/lib/python3.8/dist-packages (from pandas-profiling==3.1.0) (6.0)\n",
            "Requirement already satisfied: missingno>=0.4.2 in /usr/local/lib/python3.8/dist-packages (from pandas-profiling==3.1.0) (0.5.1)\n",
            "Collecting phik>=0.11.1\n",
            "  Downloading phik-0.12.2-cp38-cp38-manylinux_2_17_x86_64.manylinux2014_x86_64.whl (696 kB)\n",
            "\u001b[K     |████████████████████████████████| 696 kB 63.0 MB/s \n",
            "\u001b[?25hCollecting htmlmin>=0.1.12\n",
            "  Downloading htmlmin-0.1.12.tar.gz (19 kB)\n",
            "Requirement already satisfied: tqdm>=4.48.2 in /usr/local/lib/python3.8/dist-packages (from pandas-profiling==3.1.0) (4.64.1)\n",
            "Requirement already satisfied: scipy>=1.4.1 in /usr/local/lib/python3.8/dist-packages (from pandas-profiling==3.1.0) (1.7.3)\n",
            "Collecting joblib~=1.0.1\n",
            "  Downloading joblib-1.0.1-py3-none-any.whl (303 kB)\n",
            "\u001b[K     |████████████████████████████████| 303 kB 55.5 MB/s \n",
            "\u001b[?25hRequirement already satisfied: attrs>=19.3.0 in /usr/local/lib/python3.8/dist-packages (from visions[type_image_path]==0.7.4->pandas-profiling==3.1.0) (22.1.0)\n",
            "Requirement already satisfied: networkx>=2.4 in /usr/local/lib/python3.8/dist-packages (from visions[type_image_path]==0.7.4->pandas-profiling==3.1.0) (2.6.3)\n",
            "Collecting imagehash\n",
            "  Downloading ImageHash-4.3.1-py2.py3-none-any.whl (296 kB)\n",
            "\u001b[K     |████████████████████████████████| 296 kB 46.7 MB/s \n",
            "\u001b[?25hRequirement already satisfied: Pillow in /usr/local/lib/python3.8/dist-packages (from visions[type_image_path]==0.7.4->pandas-profiling==3.1.0) (7.1.2)\n",
            "Requirement already satisfied: python-dateutil>=2.1 in /usr/local/lib/python3.8/dist-packages (from matplotlib>=3.2.0->pandas-profiling==3.1.0) (2.8.2)\n",
            "Requirement already satisfied: pyparsing!=2.0.4,!=2.1.2,!=2.1.6,>=2.0.1 in /usr/local/lib/python3.8/dist-packages (from matplotlib>=3.2.0->pandas-profiling==3.1.0) (3.0.9)\n",
            "Requirement already satisfied: kiwisolver>=1.0.1 in /usr/local/lib/python3.8/dist-packages (from matplotlib>=3.2.0->pandas-profiling==3.1.0) (1.4.4)\n",
            "Requirement already satisfied: cycler>=0.10 in /usr/local/lib/python3.8/dist-packages (from matplotlib>=3.2.0->pandas-profiling==3.1.0) (0.11.0)\n",
            "Requirement already satisfied: pytz>=2017.3 in /usr/local/lib/python3.8/dist-packages (from pandas!=1.0.0,!=1.0.1,!=1.0.2,!=1.1.0,>=0.25.3->pandas-profiling==3.1.0) (2022.6)\n",
            "Requirement already satisfied: typing-extensions>=4.1.0 in /usr/local/lib/python3.8/dist-packages (from pydantic>=1.8.1->pandas-profiling==3.1.0) (4.1.1)\n",
            "Requirement already satisfied: six>=1.5 in /usr/local/lib/python3.8/dist-packages (from python-dateutil>=2.1->matplotlib>=3.2.0->pandas-profiling==3.1.0) (1.15.0)\n",
            "Requirement already satisfied: certifi>=2017.4.17 in /usr/local/lib/python3.8/dist-packages (from requests>=2.24.0->pandas-profiling==3.1.0) (2022.9.24)\n",
            "Requirement already satisfied: idna<4,>=2.5 in /usr/local/lib/python3.8/dist-packages (from requests>=2.24.0->pandas-profiling==3.1.0) (2.10)\n",
            "Requirement already satisfied: charset-normalizer<3,>=2 in /usr/local/lib/python3.8/dist-packages (from requests>=2.24.0->pandas-profiling==3.1.0) (2.1.1)\n",
            "Requirement already satisfied: urllib3<1.27,>=1.21.1 in /usr/local/lib/python3.8/dist-packages (from requests>=2.24.0->pandas-profiling==3.1.0) (1.24.3)\n",
            "Requirement already satisfied: PyWavelets in /usr/local/lib/python3.8/dist-packages (from imagehash->visions[type_image_path]==0.7.4->pandas-profiling==3.1.0) (1.3.0)\n",
            "Building wheels for collected packages: htmlmin\n",
            "  Building wheel for htmlmin (setup.py) ... \u001b[?25l\u001b[?25hdone\n",
            "  Created wheel for htmlmin: filename=htmlmin-0.1.12-py3-none-any.whl size=27098 sha256=3f362fcea9283a99473941e8e2b1b403f7fb02901fe911ed720e3bf3f55cb23e\n",
            "  Stored in directory: /root/.cache/pip/wheels/23/14/6e/4be5bfeeb027f4939a01764b48edd5996acf574b0913fe5243\n",
            "Successfully built htmlmin\n",
            "Installing collected packages: tangled-up-in-unicode, multimethod, visions, joblib, imagehash, requests, phik, htmlmin, pandas-profiling\n",
            "  Attempting uninstall: joblib\n",
            "    Found existing installation: joblib 1.2.0\n",
            "    Uninstalling joblib-1.2.0:\n",
            "      Successfully uninstalled joblib-1.2.0\n",
            "  Attempting uninstall: requests\n",
            "    Found existing installation: requests 2.23.0\n",
            "    Uninstalling requests-2.23.0:\n",
            "      Successfully uninstalled requests-2.23.0\n",
            "  Attempting uninstall: pandas-profiling\n",
            "    Found existing installation: pandas-profiling 1.4.1\n",
            "    Uninstalling pandas-profiling-1.4.1:\n",
            "      Successfully uninstalled pandas-profiling-1.4.1\n",
            "Successfully installed htmlmin-0.1.12 imagehash-4.3.1 joblib-1.0.1 multimethod-1.9 pandas-profiling-3.1.0 phik-0.12.2 requests-2.28.1 tangled-up-in-unicode-0.1.0 visions-0.7.4\n"
          ]
        }
      ],
      "source": [
        "!pip install pandas-profiling==3.1.0"
      ]
    },
    {
      "cell_type": "code",
      "execution_count": null,
      "metadata": {
        "id": "oAPy9SW1QzeL"
      },
      "outputs": [],
      "source": [
        "from category_encoders import OrdinalEncoder\n",
        "from sklearn.model_selection import train_test_split\n",
        "from sklearn.impute import SimpleImputer\n",
        "from sklearn.pipeline import make_pipeline\n",
        "from sklearn.metrics import classification_report"
      ]
    },
    {
      "cell_type": "code",
      "execution_count": null,
      "metadata": {
        "id": "G5Nrhtq9SoOD"
      },
      "outputs": [],
      "source": [
        "target = 'Y_LABEL'\n",
        "train, val = train_test_split(df, test_size = 0.2, stratify = df[target])"
      ]
    },
    {
      "cell_type": "code",
      "execution_count": null,
      "metadata": {
        "id": "uu2cnHZUTEb3"
      },
      "outputs": [],
      "source": [
        "X_train = train.drop(columns = [target])\n",
        "y_train = train[target]\n",
        "X_val = val.drop(columns = [target])\n",
        "y_val = val[target]\n"
      ]
    },
    {
      "cell_type": "code",
      "execution_count": null,
      "metadata": {
        "colab": {
          "base_uri": "https://localhost:8080/"
        },
        "id": "LbyY74bIYsh7",
        "outputId": "f911a8c8-d997-4717-fd84-d1a31b3924f7"
      },
      "outputs": [
        {
          "output_type": "execute_result",
          "data": {
            "text/plain": [
              "0    0.914686\n",
              "1    0.085314\n",
              "Name: Y_LABEL, dtype: float64"
            ]
          },
          "metadata": {},
          "execution_count": 13
        }
      ],
      "source": [
        "y_train.value_counts(normalize = True)"
      ]
    },
    {
      "cell_type": "code",
      "execution_count": null,
      "metadata": {
        "id": "s4wOgGMJZqwm"
      },
      "outputs": [],
      "source": [
        "from sklearn.metrics import f1_score\n",
        "from sklearn.model_selection import RandomizedSearchCV"
      ]
    },
    {
      "cell_type": "code",
      "execution_count": null,
      "metadata": {
        "id": "8KykdW_cSbgh"
      },
      "outputs": [],
      "source": [
        "from xgboost import XGBClassifier\n",
        "\"\"\"pipe = make_pipeline(\n",
        "    OrdinalEncoder(),\n",
        "    XGBClassifier(\n",
        "        n_estimators=1000,  # <= 1000 트리로 설정했지만, early stopping 에 따라 조절됩니다.\n",
        "        max_depth=7,        # default=3, high cardinality 특성을 위해 기본보다 높여 보았습니다.\n",
        "        learning_rate=0.2,\n",
        "        scale_pos_weight=0.1, # imbalance 데이터 일 경우 비율을 적용합니다.\n",
        "        n_jobs=-1\n",
        "    )\n",
        ")\"\"\"\n",
        "\n",
        "def f1_eval(y_pred, dtrain):\n",
        "    y_true = dtrain.get_label()\n",
        "    err = 1-f1_score(y_true, np.round(y_pred))\n",
        "    return 'f1_err', err\n",
        "\n",
        "encoder = OrdinalEncoder()\n",
        "X_train_encoded = encoder.fit_transform(X_train)\n",
        "X_val_encoded = encoder.transform(X_val)\n",
        "model = XGBClassifier(\n",
        "        n_estimators=10000,  # <= 1000 트리로 설정했지만, early stopping 에 따라 조절됩니다.\n",
        "        max_depth=10,        # default=3, high cardinality 특성을 위해 기본보다 높여 보았습니다.\n",
        "        learning_rate=0.3,\n",
        "        scale_pos_weight=0.91, # imbalance 데이터 일 경우 비율을 적용합니다.\n",
        "        n_jobs=-1,\n",
        "        early_stopping_rounds = 50\n",
        "    )\n",
        "eval_set = [(X_train_encoded, y_train), (X_val_encoded, y_val)]\n",
        "\n"
      ]
    },
    {
      "cell_type": "code",
      "execution_count": null,
      "metadata": {
        "id": "koMkc0nVZeRc"
      },
      "outputs": [],
      "source": [
        "params = { \n",
        "    \"learning_rate\" : [0.05,0.10,0.15,0.20,0.25,0.30,0.4,0.5], \n",
        "    \"max_depth\" : [ 3, 4, 5, 6, 8, 10, 12, 15, 17], \n",
        "    \"early_stopping_rounds\" : [50, 60, 70] , \n",
        "    \"scale_pos_weight\" : [0.9, 0.91, 0.92, 0.93]\n",
        "    }"
      ]
    },
    {
      "cell_type": "code",
      "execution_count": null,
      "metadata": {
        "id": "8dsIXQEPWzQp"
      },
      "outputs": [],
      "source": [
        "\n",
        "model.fit(X_train_encoded, y_train, eval_set = eval_set, eval_metric = f1_eval, early_stopping_rounds = 50)"
      ]
    },
    {
      "cell_type": "code",
      "execution_count": null,
      "metadata": {
        "colab": {
          "base_uri": "https://localhost:8080/"
        },
        "id": "IhmfzL3kbjDt",
        "outputId": "f777e906-1330-4c44-d5e7-d23ca989d4f3"
      },
      "outputs": [
        {
          "output_type": "execute_result",
          "data": {
            "text/plain": [
              "RandomizedSearchCV(cv=5,\n",
              "                   estimator=XGBClassifier(early_stopping_rounds=50,\n",
              "                                           learning_rate=0.3, max_depth=10,\n",
              "                                           n_estimators=10000, n_jobs=-1,\n",
              "                                           scale_pos_weight=0.91),\n",
              "                   n_iter=5,\n",
              "                   param_distributions={'early_stopping_rounds': [50, 60, 70],\n",
              "                                        'learning_rate': [0.05, 0.1, 0.15, 0.2,\n",
              "                                                          0.25, 0.3, 0.4, 0.5],\n",
              "                                        'max_depth': [3, 4, 5, 6, 8, 10, 12, 15,\n",
              "                                                      17],\n",
              "                                        'scale_pos_weight': [0.9, 0.91, 0.92,\n",
              "                                                             0.93]},\n",
              "                   scoring='f1')"
            ]
          },
          "metadata": {},
          "execution_count": 17
        }
      ],
      "source": [
        "rs_model  = RandomizedSearchCV(model, param_distributions = params, n_iter = 5, cv = 5, scoring = 'f1')\n",
        "rs_model.fit(X_train_encoded, y_train)"
      ]
    },
    {
      "cell_type": "code",
      "execution_count": null,
      "metadata": {
        "colab": {
          "base_uri": "https://localhost:8080/"
        },
        "id": "z-FrLQHNlNEw",
        "outputId": "ee95131e-22d2-4c48-81bc-a2a3bab3c344"
      },
      "outputs": [
        {
          "output_type": "execute_result",
          "data": {
            "text/plain": [
              "XGBClassifier(early_stopping_rounds=70, learning_rate=0.15, n_estimators=10000,\n",
              "              n_jobs=-1, scale_pos_weight=0.92)"
            ]
          },
          "metadata": {},
          "execution_count": 18
        }
      ],
      "source": [
        "rs_model.best_estimator_"
      ]
    },
    {
      "cell_type": "code",
      "execution_count": null,
      "metadata": {
        "colab": {
          "base_uri": "https://localhost:8080/"
        },
        "id": "VUqBps7yW5Ni",
        "outputId": "700a4f21-fadd-42eb-f58d-a89d887adfc0"
      },
      "outputs": [
        {
          "output_type": "execute_result",
          "data": {
            "text/plain": [
              "0.12698412698412698"
            ]
          },
          "metadata": {},
          "execution_count": 19
        }
      ],
      "source": [
        "y_pred = rs_model.best_estimator_.predict(X_val_encoded)\n",
        "f1_score(y_val, y_pred)"
      ]
    },
    {
      "cell_type": "code",
      "execution_count": null,
      "metadata": {
        "colab": {
          "base_uri": "https://localhost:8080/"
        },
        "id": "tLMFjVU2T8KZ",
        "outputId": "42847f09-4330-4ace-fee5-e4e9f7edf1bc"
      },
      "outputs": [
        {
          "output_type": "stream",
          "name": "stdout",
          "text": [
            "              precision    recall  f1-score   support\n",
            "\n",
            "           0       0.92      0.98      0.95      2578\n",
            "           1       0.27      0.08      0.13       241\n",
            "\n",
            "    accuracy                           0.90      2819\n",
            "   macro avg       0.59      0.53      0.54      2819\n",
            "weighted avg       0.86      0.90      0.88      2819\n",
            "\n"
          ]
        }
      ],
      "source": [
        "print(classification_report(y_val, y_pred))"
      ]
    },
    {
      "cell_type": "code",
      "execution_count": null,
      "metadata": {
        "id": "A6BuUoeSUHM7"
      },
      "outputs": [],
      "source": [
        "from sklearn.metrics import roc_curve"
      ]
    },
    {
      "cell_type": "code",
      "source": [
        "from ipywidgets import interact, fixed\n",
        "import seaborn as sns"
      ],
      "metadata": {
        "id": "3Z7CQ3cfiT2e"
      },
      "execution_count": null,
      "outputs": []
    },
    {
      "cell_type": "code",
      "source": [
        "from sklearn.metrics import classification_report"
      ],
      "metadata": {
        "id": "UHc96mpMkmlK"
      },
      "execution_count": null,
      "outputs": []
    },
    {
      "cell_type": "code",
      "source": [
        "import matplotlib.pyplot as plt\n",
        "%matplotlib inline"
      ],
      "metadata": {
        "id": "dggUbkojjRY3"
      },
      "execution_count": null,
      "outputs": []
    },
    {
      "cell_type": "code",
      "source": [
        "y_pred_proba = rs_model.best_estimator_.predict_proba(X_val_encoded)[:, 1]\n",
        "y_pred_proba"
      ],
      "metadata": {
        "colab": {
          "base_uri": "https://localhost:8080/"
        },
        "id": "AyyXBpDTjyqi",
        "outputId": "43304158-5d4e-4a2c-d8c4-a5101498400b"
      },
      "execution_count": null,
      "outputs": [
        {
          "output_type": "execute_result",
          "data": {
            "text/plain": [
              "array([1.7259257e-03, 2.6538290e-02, 7.3001102e-06, ..., 3.6235598e-03,\n",
              "       1.6120457e-03, 6.8551101e-02], dtype=float32)"
            ]
          },
          "metadata": {},
          "execution_count": 26
        }
      ]
    },
    {
      "cell_type": "code",
      "source": [
        "def explore_threshold(y_true, y_pred_proba, threshold = 0.5):\n",
        "  y_pred = y_pred_proba >= threshold\n",
        "  vc = pd.Series(y_pred).value_counts()\n",
        "  ax = sns.histplot(y_pred_proba, kde = True)\n",
        "  ax.axvline(threshold, color = 'red')\n",
        "  ax.set_title(f'# of target, 1 = {vc[1]}, 0 = {vc[0]}')\n",
        "  plt.show()\n",
        "  print(classification_report(y_true, y_pred))\n",
        "\n",
        "interact(\n",
        "    explore_threshold,\n",
        "    y_true = fixed(y_val),\n",
        "    y_pred_proba = fixed(y_pred_proba),\n",
        "    threshold = (0, 0.5, 0.001)\n",
        ")"
      ],
      "metadata": {
        "colab": {
          "base_uri": "https://localhost:8080/",
          "height": 1000,
          "referenced_widgets": [
            "8b470aa2d5d544c88785923fe9fc3c44",
            "93796adcbaa4449ab53f7a1e3af5f615",
            "174b4533c05749e59602e429703a5b77",
            "e87a7143359746729f3bf5c37f2cade9",
            "b6c03659fb4549c9b98d19a684e07675",
            "f87b2f1355eb4b3496306ffe778399d3",
            "7df563011e6a4a518c8016dbe14797e3"
          ]
        },
        "id": "W2h5ib7pid8X",
        "outputId": "29699cad-a35e-4b84-c30d-4771b3b66578"
      },
      "execution_count": null,
      "outputs": [
        {
          "output_type": "display_data",
          "data": {
            "text/plain": [
              "interactive(children=(FloatSlider(value=0.5, description='threshold', max=0.5, step=0.001), Output()), _dom_cl…"
            ],
            "application/vnd.jupyter.widget-view+json": {
              "version_major": 2,
              "version_minor": 0,
              "model_id": "8b470aa2d5d544c88785923fe9fc3c44"
            }
          },
          "metadata": {}
        },
        {
          "output_type": "execute_result",
          "data": {
            "text/plain": [
              "<function __main__.explore_threshold(y_true, y_pred_proba, threshold=0.5)>"
            ]
          },
          "metadata": {},
          "execution_count": 35
        },
        {
          "output_type": "display_data",
          "data": {
            "text/plain": [
              "<Figure size 432x288 with 1 Axes>"
            ],
            "image/png": "[encoded data removed]"
          },
          "metadata": {
            "needs_background": "light"
          }
        },
        {
          "output_type": "display_data",
          "data": {
            "text/plain": [
              "<Figure size 432x288 with 1 Axes>"
            ],
            "image/png": "[encoded data removed]"
          },
          "metadata": {
            "needs_background": "light"
          }
        },
        {
          "output_type": "display_data",
          "data": {
            "text/plain": [
              "<Figure size 432x288 with 1 Axes>"
            ],
            "image/png": "[encoded data removed]"
          },
          "metadata": {
            "needs_background": "light"
          }
        },
        {
          "output_type": "display_data",
          "data": {
            "text/plain": [
              "<Figure size 432x288 with 1 Axes>"
            ],
            "image/png": "[encoded data removed]"
          },
          "metadata": {
            "needs_background": "light"
          }
        },
        {
          "output_type": "display_data",
          "data": {
            "text/plain": [
              "<Figure size 432x288 with 1 Axes>"
            ],
            "image/png": "[encoded data removed]"
          },
          "metadata": {
            "needs_background": "light"
          }
        },
        {
          "output_type": "display_data",
          "data": {
            "text/plain": [
              "<Figure size 432x288 with 1 Axes>"
            ],
            "image/png": "[encoded data removed]"
          },
          "metadata": {
            "needs_background": "light"
          }
        },
        {
          "output_type": "display_data",
          "data": {
            "text/plain": [
              "<Figure size 432x288 with 1 Axes>"
            ],
            "image/png": "[encoded data removed]"
          },
          "metadata": {
            "needs_background": "light"
          }
        },
        {
          "output_type": "display_data",
          "data": {
            "text/plain": [
              "<Figure size 432x288 with 1 Axes>"
            ],
            "image/png": "[encoded data removed]"
          },
          "metadata": {
            "needs_background": "light"
          }
        },
        {
          "output_type": "display_data",
          "data": {
            "text/plain": [
              "<Figure size 432x288 with 1 Axes>"
            ],
            "image/png": "[encoded data removed]"
          },
          "metadata": {
            "needs_background": "light"
          }
        },
        {
          "output_type": "display_data",
          "data": {
            "text/plain": [
              "<Figure size 432x288 with 1 Axes>"
            ],
            "image/png": "[encoded data removed]"
          },
          "metadata": {
            "needs_background": "light"
          }
        },
        {
          "output_type": "display_data",
          "data": {
            "text/plain": [
              "<Figure size 432x288 with 1 Axes>"
            ],
            "image/png": "[encoded data removed]"
          },
          "metadata": {
            "needs_background": "light"
          }
        }
      ]
    },
    {
      "cell_type": "code",
      "source": [
        "from sklearn.ensemble import RandomForestClassifier\n",
        "forest = RandomForestClassifier(n_estimators = 100, max_depth = 10, n_jobs = -1)\n",
        "forest.fit(X_train_encoded, y_train)\n"
      ],
      "metadata": {
        "colab": {
          "base_uri": "https://localhost:8080/"
        },
        "id": "PQYRWV9JkDYn",
        "outputId": "dfbc3fe2-6979-4767-c47e-f10eb804e8fc"
      },
      "execution_count": null,
      "outputs": [
        {
          "output_type": "execute_result",
          "data": {
            "text/plain": [
              "RandomForestClassifier(max_depth=10, n_jobs=-1)"
            ]
          },
          "metadata": {},
          "execution_count": 38
        }
      ]
    },
    {
      "cell_type": "code",
      "source": [
        "y_pred_forest = forest.predict_proba(X_val_encoded)[:, 1]\n",
        "interact(\n",
        "    explore_threshold,\n",
        "    y_true = fixed(y_val),\n",
        "    y_pred_proba = fixed(y_pred_forest),\n",
        "    threshold = (0, 1, 0.001)\n",
        ")"
      ],
      "metadata": {
        "colab": {
          "base_uri": "https://localhost:8080/",
          "height": 487,
          "referenced_widgets": [
            "c0e5f44bc33b4e1db09d3a9b1feefb00",
            "f8756e8fd4994e44ac31d4fa301234cb",
            "d119a849e2334539858b91e4d5bd77ca",
            "9d7177ad88c84d2da0b0ed14885f7fc0",
            "e484fa005f95480496c52c84f213a174",
            "0ecd59426264491cbbebf93d2576c06b",
            "9992c0d3a27d4721bf85eae997864c6f"
          ]
        },
        "id": "_MKzE0SgmhyX",
        "outputId": "2078ce87-db0b-432d-fbe2-e884b71641ba"
      },
      "execution_count": null,
      "outputs": [
        {
          "output_type": "display_data",
          "data": {
            "text/plain": [
              "interactive(children=(FloatSlider(value=0.5, description='threshold', max=1.0, step=0.001), Output()), _dom_cl…"
            ],
            "application/vnd.jupyter.widget-view+json": {
              "version_major": 2,
              "version_minor": 0,
              "model_id": "c0e5f44bc33b4e1db09d3a9b1feefb00"
            }
          },
          "metadata": {}
        },
        {
          "output_type": "execute_result",
          "data": {
            "text/plain": [
              "<function __main__.explore_threshold(y_true, y_pred_proba, threshold=0.5)>"
            ]
          },
          "metadata": {},
          "execution_count": 39
        }
      ]
    },
    {
      "cell_type": "code",
      "source": [
        "test = pd.read_csv('test.csv')"
      ],
      "metadata": {
        "id": "kvCwpsZlm6Wv"
      },
      "execution_count": null,
      "outputs": []
    },
    {
      "cell_type": "code",
      "source": [
        "def zeroone(list):\n",
        "  new_list = []\n",
        "  for result in list:\n",
        "    if result == False:\n",
        "      new_list.append(0)\n",
        "    else:\n",
        "      new_list.append(1)\n",
        "  return np.array(new_list)\n"
      ],
      "metadata": {
        "id": "maqTMEEBozgd"
      },
      "execution_count": null,
      "outputs": []
    },
    {
      "cell_type": "code",
      "source": [
        "index = test['ID']\n",
        "test = test.drop(columns = ['ID'])\n",
        "test_encoded = encoder.transform(test)\n",
        "test_proba = forest.predict_proba(test_encoded)[:, 1]\n",
        "thresh = 0.18\n",
        "test_thresh = test_proba > thresh\n",
        "test_zeroone = zeroone(test_thresh)\n",
        "pd.DataFrame(\n",
        "    {'ID' : index, \n",
        "     'Y_LABEL' : test_zeroone}\n",
        ").to_csv('test_first_try.csv', index = False)"
      ],
      "metadata": {
        "id": "Zik1zAjkoD2i"
      },
      "execution_count": null,
      "outputs": []
    },
    {
      "cell_type": "code",
      "source": [
        "val_proba = forest.predict_proba(X_val_encoded)[:, 1]\n",
        "thresh = 0.2\n",
        "val_thresh = val_proba > thresh\n",
        "val_zeroone = zeroone(val_thresh)\n",
        "print(classification_report(y_val, val_zeroone))"
      ],
      "metadata": {
        "colab": {
          "base_uri": "https://localhost:8080/"
        },
        "id": "S9d8nluhoFJe",
        "outputId": "d3637d3a-c6de-4f0b-834b-54582f71f85f"
      },
      "execution_count": null,
      "outputs": [
        {
          "output_type": "stream",
          "name": "stdout",
          "text": [
            "              precision    recall  f1-score   support\n",
            "\n",
            "           0       0.92      0.97      0.95      2578\n",
            "           1       0.33      0.14      0.19       241\n",
            "\n",
            "    accuracy                           0.90      2819\n",
            "   macro avg       0.63      0.56      0.57      2819\n",
            "weighted avg       0.87      0.90      0.88      2819\n",
            "\n"
          ]
        }
      ]
    },
    {
      "cell_type": "code",
      "source": [
        "X_train_encoded"
      ],
      "metadata": {
        "colab": {
          "base_uri": "https://localhost:8080/",
          "height": 424
        },
        "id": "s4aqMnymtwcJ",
        "outputId": "82f5eca7-df98-4dbb-e73b-52ae91b59e83"
      },
      "execution_count": null,
      "outputs": [
        {
          "output_type": "execute_result",
          "data": {
            "text/plain": [
              "       COMPONENT_ARBITRARY  ANONYMOUS_1  YEAR  ANONYMOUS_2  AG  CO  CR   CU  \\\n",
              "12803                    1         5001  2011          200   0   0   6    2   \n",
              "12279                    2         2339  2013          200   0   0   0    0   \n",
              "6680                     3         2488  2012          200   0   0   3    4   \n",
              "12131                    3         3870  2015          200   0   0  17    3   \n",
              "845                      3         2855  2010          200   0   0   9   41   \n",
              "...                    ...          ...   ...          ...  ..  ..  ..  ...   \n",
              "5565                     4         2883  2009          200   0   0   0  102   \n",
              "4659                     3         2155  2018          550   0   0   2    4   \n",
              "9481                     4         5599  2012          200   0   0   2    4   \n",
              "5802                     3         1372  2009          572   0   0   5    1   \n",
              "13386                    1         3029  2017         2300   0   0   6   13   \n",
              "\n",
              "        FE  H2O  MN  MO  NI  PQINDEX  TI  V    V40    ZN  \n",
              "12803   42  0.0   1  20   0       28   0  0   82.9   953  \n",
              "12279   23  0.0   0   3   0       15   0  0   73.6  1279  \n",
              "6680   179  0.0   1   1   0      209   0  0  147.3    28  \n",
              "12131  997  0.0  11   0   0     1319   0  0  135.8    33  \n",
              "845    833  0.4  13   0   2       90   0  0  145.7    46  \n",
              "...    ...  ...  ..  ..  ..      ...  .. ..    ...   ...  \n",
              "5565     5  0.0   0   0   0       94   0  0   41.4   632  \n",
              "4659   136  0.0   2   2   0      195   0  0  120.7   107  \n",
              "9481    19  0.0   0   0   0       25   0  0   67.4   212  \n",
              "5802   167  0.0   3   0   1      244   0  0  146.5    13  \n",
              "13386   43  0.0   1  25   3       20   0  0   94.5  1149  \n",
              "\n",
              "[11276 rows x 18 columns]"
            ],
            "text/html": [
              "\n",
              "  <div id=\"df-ea3f2ed6-3242-4d3d-a95e-0027aaf4d0f2\">\n",
              "    <div class=\"colab-df-container\">\n",
              "      <div>\n",
              "<style scoped>\n",
              "    .dataframe tbody tr th:only-of-type {\n",
              "        vertical-align: middle;\n",
              "    }\n",
              "\n",
              "    .dataframe tbody tr th {\n",
              "        vertical-align: top;\n",
              "    }\n",
              "\n",
              "    .dataframe thead th {\n",
              "        text-align: right;\n",
              "    }\n",
              "</style>\n",
              "<table border=\"1\" class=\"dataframe\">\n",
              "  <thead>\n",
              "    <tr style=\"text-align: right;\">\n",
              "      <th></th>\n",
              "      <th>COMPONENT_ARBITRARY</th>\n",
              "      <th>ANONYMOUS_1</th>\n",
              "      <th>YEAR</th>\n",
              "      <th>ANONYMOUS_2</th>\n",
              "      <th>AG</th>\n",
              "      <th>CO</th>\n",
              "      <th>CR</th>\n",
              "      <th>CU</th>\n",
              "      <th>FE</th>\n",
              "      <th>H2O</th>\n",
              "      <th>MN</th>\n",
              "      <th>MO</th>\n",
              "      <th>NI</th>\n",
              "      <th>PQINDEX</th>\n",
              "      <th>TI</th>\n",
              "      <th>V</th>\n",
              "      <th>V40</th>\n",
              "      <th>ZN</th>\n",
              "    </tr>\n",
              "  </thead>\n",
              "  <tbody>\n",
              "    <tr>\n",
              "      <th>12803</th>\n",
              "      <td>1</td>\n",
              "      <td>5001</td>\n",
              "      <td>2011</td>\n",
              "      <td>200</td>\n",
              "      <td>0</td>\n",
              "      <td>0</td>\n",
              "      <td>6</td>\n",
              "      <td>2</td>\n",
              "      <td>42</td>\n",
              "      <td>0.0</td>\n",
              "      <td>1</td>\n",
              "      <td>20</td>\n",
              "      <td>0</td>\n",
              "      <td>28</td>\n",
              "      <td>0</td>\n",
              "      <td>0</td>\n",
              "      <td>82.9</td>\n",
              "      <td>953</td>\n",
              "    </tr>\n",
              "    <tr>\n",
              "      <th>12279</th>\n",
              "      <td>2</td>\n",
              "      <td>2339</td>\n",
              "      <td>2013</td>\n",
              "      <td>200</td>\n",
              "      <td>0</td>\n",
              "      <td>0</td>\n",
              "      <td>0</td>\n",
              "      <td>0</td>\n",
              "      <td>23</td>\n",
              "      <td>0.0</td>\n",
              "      <td>0</td>\n",
              "      <td>3</td>\n",
              "      <td>0</td>\n",
              "      <td>15</td>\n",
              "      <td>0</td>\n",
              "      <td>0</td>\n",
              "      <td>73.6</td>\n",
              "      <td>1279</td>\n",
              "    </tr>\n",
              "    <tr>\n",
              "      <th>6680</th>\n",
              "      <td>3</td>\n",
              "      <td>2488</td>\n",
              "      <td>2012</td>\n",
              "      <td>200</td>\n",
              "      <td>0</td>\n",
              "      <td>0</td>\n",
              "      <td>3</td>\n",
              "      <td>4</td>\n",
              "      <td>179</td>\n",
              "      <td>0.0</td>\n",
              "      <td>1</td>\n",
              "      <td>1</td>\n",
              "      <td>0</td>\n",
              "      <td>209</td>\n",
              "      <td>0</td>\n",
              "      <td>0</td>\n",
              "      <td>147.3</td>\n",
              "      <td>28</td>\n",
              "    </tr>\n",
              "    <tr>\n",
              "      <th>12131</th>\n",
              "      <td>3</td>\n",
              "      <td>3870</td>\n",
              "      <td>2015</td>\n",
              "      <td>200</td>\n",
              "      <td>0</td>\n",
              "      <td>0</td>\n",
              "      <td>17</td>\n",
              "      <td>3</td>\n",
              "      <td>997</td>\n",
              "      <td>0.0</td>\n",
              "      <td>11</td>\n",
              "      <td>0</td>\n",
              "      <td>0</td>\n",
              "      <td>1319</td>\n",
              "      <td>0</td>\n",
              "      <td>0</td>\n",
              "      <td>135.8</td>\n",
              "      <td>33</td>\n",
              "    </tr>\n",
              "    <tr>\n",
              "      <th>845</th>\n",
              "      <td>3</td>\n",
              "      <td>2855</td>\n",
              "      <td>2010</td>\n",
              "      <td>200</td>\n",
              "      <td>0</td>\n",
              "      <td>0</td>\n",
              "      <td>9</td>\n",
              "      <td>41</td>\n",
              "      <td>833</td>\n",
              "      <td>0.4</td>\n",
              "      <td>13</td>\n",
              "      <td>0</td>\n",
              "      <td>2</td>\n",
              "      <td>90</td>\n",
              "      <td>0</td>\n",
              "      <td>0</td>\n",
              "      <td>145.7</td>\n",
              "      <td>46</td>\n",
              "    </tr>\n",
              "    <tr>\n",
              "      <th>...</th>\n",
              "      <td>...</td>\n",
              "      <td>...</td>\n",
              "      <td>...</td>\n",
              "      <td>...</td>\n",
              "      <td>...</td>\n",
              "      <td>...</td>\n",
              "      <td>...</td>\n",
              "      <td>...</td>\n",
              "      <td>...</td>\n",
              "      <td>...</td>\n",
              "      <td>...</td>\n",
              "      <td>...</td>\n",
              "      <td>...</td>\n",
              "      <td>...</td>\n",
              "      <td>...</td>\n",
              "      <td>...</td>\n",
              "      <td>...</td>\n",
              "      <td>...</td>\n",
              "    </tr>\n",
              "    <tr>\n",
              "      <th>5565</th>\n",
              "      <td>4</td>\n",
              "      <td>2883</td>\n",
              "      <td>2009</td>\n",
              "      <td>200</td>\n",
              "      <td>0</td>\n",
              "      <td>0</td>\n",
              "      <td>0</td>\n",
              "      <td>102</td>\n",
              "      <td>5</td>\n",
              "      <td>0.0</td>\n",
              "      <td>0</td>\n",
              "      <td>0</td>\n",
              "      <td>0</td>\n",
              "      <td>94</td>\n",
              "      <td>0</td>\n",
              "      <td>0</td>\n",
              "      <td>41.4</td>\n",
              "      <td>632</td>\n",
              "    </tr>\n",
              "    <tr>\n",
              "      <th>4659</th>\n",
              "      <td>3</td>\n",
              "      <td>2155</td>\n",
              "      <td>2018</td>\n",
              "      <td>550</td>\n",
              "      <td>0</td>\n",
              "      <td>0</td>\n",
              "      <td>2</td>\n",
              "      <td>4</td>\n",
              "      <td>136</td>\n",
              "      <td>0.0</td>\n",
              "      <td>2</td>\n",
              "      <td>2</td>\n",
              "      <td>0</td>\n",
              "      <td>195</td>\n",
              "      <td>0</td>\n",
              "      <td>0</td>\n",
              "      <td>120.7</td>\n",
              "      <td>107</td>\n",
              "    </tr>\n",
              "    <tr>\n",
              "      <th>9481</th>\n",
              "      <td>4</td>\n",
              "      <td>5599</td>\n",
              "      <td>2012</td>\n",
              "      <td>200</td>\n",
              "      <td>0</td>\n",
              "      <td>0</td>\n",
              "      <td>2</td>\n",
              "      <td>4</td>\n",
              "      <td>19</td>\n",
              "      <td>0.0</td>\n",
              "      <td>0</td>\n",
              "      <td>0</td>\n",
              "      <td>0</td>\n",
              "      <td>25</td>\n",
              "      <td>0</td>\n",
              "      <td>0</td>\n",
              "      <td>67.4</td>\n",
              "      <td>212</td>\n",
              "    </tr>\n",
              "    <tr>\n",
              "      <th>5802</th>\n",
              "      <td>3</td>\n",
              "      <td>1372</td>\n",
              "      <td>2009</td>\n",
              "      <td>572</td>\n",
              "      <td>0</td>\n",
              "      <td>0</td>\n",
              "      <td>5</td>\n",
              "      <td>1</td>\n",
              "      <td>167</td>\n",
              "      <td>0.0</td>\n",
              "      <td>3</td>\n",
              "      <td>0</td>\n",
              "      <td>1</td>\n",
              "      <td>244</td>\n",
              "      <td>0</td>\n",
              "      <td>0</td>\n",
              "      <td>146.5</td>\n",
              "      <td>13</td>\n",
              "    </tr>\n",
              "    <tr>\n",
              "      <th>13386</th>\n",
              "      <td>1</td>\n",
              "      <td>3029</td>\n",
              "      <td>2017</td>\n",
              "      <td>2300</td>\n",
              "      <td>0</td>\n",
              "      <td>0</td>\n",
              "      <td>6</td>\n",
              "      <td>13</td>\n",
              "      <td>43</td>\n",
              "      <td>0.0</td>\n",
              "      <td>1</td>\n",
              "      <td>25</td>\n",
              "      <td>3</td>\n",
              "      <td>20</td>\n",
              "      <td>0</td>\n",
              "      <td>0</td>\n",
              "      <td>94.5</td>\n",
              "      <td>1149</td>\n",
              "    </tr>\n",
              "  </tbody>\n",
              "</table>\n",
              "<p>11276 rows × 18 columns</p>\n",
              "</div>\n",
              "      <button class=\"colab-df-convert\" onclick=\"convertToInteractive('df-ea3f2ed6-3242-4d3d-a95e-0027aaf4d0f2')\"\n",
              "              title=\"Convert this dataframe to an interactive table.\"\n",
              "              style=\"display:none;\">\n",
              "        \n",
              "  <svg xmlns=\"http://www.w3.org/2000/svg\" height=\"24px\"viewBox=\"0 0 24 24\"\n",
              "       width=\"24px\">\n",
              "    <path d=\"M0 0h24v24H0V0z\" fill=\"none\"/>\n",
              "    <path d=\"M18.56 5.44l.94 2.06.94-2.06 2.06-.94-2.06-.94-.94-2.06-.94 2.06-2.06.94zm-11 1L8.5 8.5l.94-2.06 2.06-.94-2.06-.94L8.5 2.5l-.94 2.06-2.06.94zm10 10l.94 2.06.94-2.06 2.06-.94-2.06-.94-.94-2.06-.94 2.06-2.06.94z\"/><path d=\"M17.41 7.96l-1.37-1.37c-.4-.4-.92-.59-1.43-.59-.52 0-1.04.2-1.43.59L10.3 9.45l-7.72 7.72c-.78.78-.78 2.05 0 2.83L4 21.41c.39.39.9.59 1.41.59.51 0 1.02-.2 1.41-.59l7.78-7.78 2.81-2.81c.8-.78.8-2.07 0-2.86zM5.41 20L4 18.59l7.72-7.72 1.47 1.35L5.41 20z\"/>\n",
              "  </svg>\n",
              "      </button>\n",
              "      \n",
              "  <style>\n",
              "    .colab-df-container {\n",
              "      display:flex;\n",
              "      flex-wrap:wrap;\n",
              "      gap: 12px;\n",
              "    }\n",
              "\n",
              "    .colab-df-convert {\n",
              "      background-color: #E8F0FE;\n",
              "      border: none;\n",
              "      border-radius: 50%;\n",
              "      cursor: pointer;\n",
              "      display: none;\n",
              "      fill: #1967D2;\n",
              "      height: 32px;\n",
              "      padding: 0 0 0 0;\n",
              "      width: 32px;\n",
              "    }\n",
              "\n",
              "    .colab-df-convert:hover {\n",
              "      background-color: #E2EBFA;\n",
              "      box-shadow: 0px 1px 2px rgba(60, 64, 67, 0.3), 0px 1px 3px 1px rgba(60, 64, 67, 0.15);\n",
              "      fill: #174EA6;\n",
              "    }\n",
              "\n",
              "    [theme=dark] .colab-df-convert {\n",
              "      background-color: #3B4455;\n",
              "      fill: #D2E3FC;\n",
              "    }\n",
              "\n",
              "    [theme=dark] .colab-df-convert:hover {\n",
              "      background-color: #434B5C;\n",
              "      box-shadow: 0px 1px 3px 1px rgba(0, 0, 0, 0.15);\n",
              "      filter: drop-shadow(0px 1px 2px rgba(0, 0, 0, 0.3));\n",
              "      fill: #FFFFFF;\n",
              "    }\n",
              "  </style>\n",
              "\n",
              "      <script>\n",
              "        const buttonEl =\n",
              "          document.querySelector('#df-ea3f2ed6-3242-4d3d-a95e-0027aaf4d0f2 button.colab-df-convert');\n",
              "        buttonEl.style.display =\n",
              "          google.colab.kernel.accessAllowed ? 'block' : 'none';\n",
              "\n",
              "        async function convertToInteractive(key) {\n",
              "          const element = document.querySelector('#df-ea3f2ed6-3242-4d3d-a95e-0027aaf4d0f2');\n",
              "          const dataTable =\n",
              "            await google.colab.kernel.invokeFunction('convertToInteractive',\n",
              "                                                     [key], {});\n",
              "          if (!dataTable) return;\n",
              "\n",
              "          const docLinkHtml = 'Like what you see? Visit the ' +\n",
              "            '<a target=\"_blank\" href=https://colab.research.google.com/notebooks/data_table.ipynb>data table notebook</a>'\n",
              "            + ' to learn more about interactive tables.';\n",
              "          element.innerHTML = '';\n",
              "          dataTable['output_type'] = 'display_data';\n",
              "          await google.colab.output.renderOutput(dataTable, element);\n",
              "          const docLink = document.createElement('div');\n",
              "          docLink.innerHTML = docLinkHtml;\n",
              "          element.appendChild(docLink);\n",
              "        }\n",
              "      </script>\n",
              "    </div>\n",
              "  </div>\n",
              "  "
            ]
          },
          "metadata": {},
          "execution_count": 49
        }
      ]
    },
    {
      "cell_type": "code",
      "source": [
        "from pandas_profiling import ProfileReport\n",
        "profile = ProfileReport(df, minimal = True).to_notebook_iframe()"
      ],
      "metadata": {
        "id": "VekbLcBs0G-1"
      },
      "execution_count": null,
      "outputs": []
    },
    {
      "cell_type": "code",
      "source": [
        "from scipy.stats import randint, uniform\n",
        "from sklearn.feature_selection import SelectKBest"
      ],
      "metadata": {
        "id": "RzyhDseY3F9N"
      },
      "execution_count": null,
      "outputs": []
    },
    {
      "cell_type": "code",
      "source": [
        "pipeline = make_pipeline(\n",
        "    SelectKBest(),\n",
        "    RandomForestClassifier(n_jobs = -1)\n",
        ")\n",
        "\n",
        "dists = {\n",
        "    'selectkbest__k': range(1, len(X_train.columns)+1),\n",
        "    'randomforestclassifier__n_estimators' : randint(50, 500),\n",
        "    'randomforestclassifier__max_depth' : [5, 10, 15, None]\n",
        "}\n",
        "clf = RandomizedSearchCV(\n",
        "    pipeline,\n",
        "    param_distributions = dists,\n",
        "    n_iter = 50,\n",
        "    cv = 3,\n",
        "    scoring = 'f1_macro',\n",
        "    verbose=1,\n",
        "    n_jobs = -1\n",
        ")\n",
        "clf.fit(X_train_encoded, y_train)"
      ],
      "metadata": {
        "colab": {
          "base_uri": "https://localhost:8080/"
        },
        "id": "f_OXApRv0NGH",
        "outputId": "40bec7e9-25f0-4258-9ea6-a2ce3698f02b"
      },
      "execution_count": null,
      "outputs": [
        {
          "metadata": {
            "tags": null
          },
          "name": "stdout",
          "output_type": "stream",
          "text": [
            "Fitting 3 folds for each of 50 candidates, totalling 150 fits\n"
          ]
        },
        {
          "output_type": "execute_result",
          "data": {
            "text/plain": [
              "RandomizedSearchCV(cv=3,\n",
              "                   estimator=Pipeline(steps=[('selectkbest', SelectKBest()),\n",
              "                                             ('randomforestclassifier',\n",
              "                                              RandomForestClassifier(n_jobs=-1))]),\n",
              "                   n_iter=50, n_jobs=-1,\n",
              "                   param_distributions={'randomforestclassifier__max_depth': [5,\n",
              "                                                                              10,\n",
              "                                                                              15,\n",
              "                                                                              None],\n",
              "                                        'randomforestclassifier__n_estimators': <scipy.stats._distn_infrastructure.rv_frozen object at 0x7f715c8edc70>,\n",
              "                                        'selectkbest__k': range(1, 19)},\n",
              "                   scoring='f1_macro', verbose=1)"
            ]
          },
          "metadata": {},
          "execution_count": 55
        }
      ]
    },
    {
      "cell_type": "code",
      "source": [
        "clf.best_params_"
      ],
      "metadata": {
        "colab": {
          "base_uri": "https://localhost:8080/"
        },
        "id": "H7HEV3p46L6n",
        "outputId": "7ade46dd-9c24-451a-e455-8cd705f5bdad"
      },
      "execution_count": null,
      "outputs": [
        {
          "output_type": "execute_result",
          "data": {
            "text/plain": [
              "{'randomforestclassifier__max_depth': None,\n",
              " 'randomforestclassifier__n_estimators': 333,\n",
              " 'selectkbest__k': 4}"
            ]
          },
          "metadata": {},
          "execution_count": 56
        }
      ]
    },
    {
      "cell_type": "code",
      "source": [
        "clf.best_score_"
      ],
      "metadata": {
        "colab": {
          "base_uri": "https://localhost:8080/"
        },
        "id": "SasMKhO37jo1",
        "outputId": "6df1a88a-6443-40ee-bc42-6d12a59819af"
      },
      "execution_count": null,
      "outputs": [
        {
          "output_type": "execute_result",
          "data": {
            "text/plain": [
              "0.5297726150879196"
            ]
          },
          "metadata": {},
          "execution_count": 57
        }
      ]
    },
    {
      "cell_type": "code",
      "source": [
        "val_pred_clf = clf.best_estimator_.predict(X_val_encoded)\n",
        "print(classification_report(y_val, val_pred_clf))"
      ],
      "metadata": {
        "colab": {
          "base_uri": "https://localhost:8080/"
        },
        "id": "QvaPUxyo7mJ7",
        "outputId": "be7a90db-6733-4103-a691-6da670859107"
      },
      "execution_count": null,
      "outputs": [
        {
          "output_type": "stream",
          "name": "stdout",
          "text": [
            "              precision    recall  f1-score   support\n",
            "\n",
            "           0       0.92      0.99      0.95      2578\n",
            "           1       0.27      0.04      0.07       241\n",
            "\n",
            "    accuracy                           0.91      2819\n",
            "   macro avg       0.59      0.52      0.51      2819\n",
            "weighted avg       0.86      0.91      0.88      2819\n",
            "\n"
          ]
        }
      ]
    },
    {
      "cell_type": "code",
      "source": [
        "val_clf_predict_proba = clf.predict_proba(X_val_encoded)[:, -1]\n",
        "interact(\n",
        "    explore_threshold,\n",
        "    y_true = fixed(y_val),\n",
        "    y_pred_proba = fixed(val_clf_predict_proba),\n",
        "    threshold = (0, 0.2, 0.001)\n",
        ")"
      ],
      "metadata": {
        "id": "Pe8In0Um7zS0"
      },
      "execution_count": null,
      "outputs": []
    },
    {
      "cell_type": "code",
      "source": [
        "xgb_pipe = make_pipeline(\n",
        "    SelectKBest(),\n",
        "    XGBClassifier()\n",
        ")\n",
        "\n",
        "params = {\n",
        "    'selectkbest__k': range(1, len(X_train.columns)+1),\n",
        "    'xgbclassifier__n_estimators': [1000, 2000, 3000, 4000, 5000],\n",
        "    'xgbclassifier__max_depth':[3, 4, 5, 6, 7, 8, 10],\n",
        "    'xgbclassifier__learning_rate':[0.1, 0.2, 0.3],\n",
        "    'xgbclassifier__scale_pos_weight':[0.89, 0.9, 0.91, 0.92],\n",
        "    'xgbclassifier__n_jobs':[-1],\n",
        "    'xgbclassifier__early_stopping_rounds' : [40, 50, 60]\n",
        "}\n",
        "\n",
        "xgb_clf = RandomizedSearchCV(\n",
        "    xgb_pipe,\n",
        "    param_distributions = params,\n",
        "    n_iter = 50,\n",
        "    cv = 3,\n",
        "    scoring = 'f1_macro',\n",
        "    verbose=1,\n",
        "    n_jobs = -1\n",
        ")\n",
        "xgb_clf.fit(X_train_encoded, y_train)\n",
        "xgb_val_pred_clf = xgb_clf.best_estimator_.predict(X_val_encoded)\n",
        "print(classification_report(y_val, xgb_val_pred_clf))"
      ],
      "metadata": {
        "colab": {
          "base_uri": "https://localhost:8080/"
        },
        "id": "W-7c4yBa8Q8x",
        "outputId": "8b7ebe7f-16e9-48e9-f0fd-fa753a08fb24"
      },
      "execution_count": null,
      "outputs": [
        {
          "output_type": "stream",
          "name": "stdout",
          "text": [
            "Fitting 3 folds for each of 50 candidates, totalling 150 fits\n",
            "              precision    recall  f1-score   support\n",
            "\n",
            "           0       0.92      0.97      0.94      2578\n",
            "           1       0.22      0.09      0.12       241\n",
            "\n",
            "    accuracy                           0.90      2819\n",
            "   macro avg       0.57      0.53      0.53      2819\n",
            "weighted avg       0.86      0.90      0.87      2819\n",
            "\n"
          ]
        }
      ]
    },
    {
      "cell_type": "code",
      "source": [
        "print(classification_report(y_val, xgb_val_pred_clf))"
      ],
      "metadata": {
        "colab": {
          "base_uri": "https://localhost:8080/"
        },
        "id": "1YSrv3bNHc_o",
        "outputId": "ead44512-e0e4-4053-da39-1dbdc026c5ef"
      },
      "execution_count": null,
      "outputs": [
        {
          "output_type": "stream",
          "name": "stdout",
          "text": [
            "              precision    recall  f1-score   support\n",
            "\n",
            "           0       0.92      0.97      0.94      2578\n",
            "           1       0.22      0.09      0.12       241\n",
            "\n",
            "    accuracy                           0.90      2819\n",
            "   macro avg       0.57      0.53      0.53      2819\n",
            "weighted avg       0.86      0.90      0.87      2819\n",
            "\n"
          ]
        }
      ]
    },
    {
      "cell_type": "code",
      "source": [
        "xgb_val_predict_proba = xgb_clf.predict_proba(X_val_encoded)[:, -1]\n",
        "interact(\n",
        "    explore_threshold,\n",
        "    y_true = fixed(y_val),\n",
        "    y_pred_proba = fixed(val_clf_predict_proba),\n",
        "    threshold = (0, 0.5, 0.001)\n",
        ")"
      ],
      "metadata": {
        "colab": {
          "base_uri": "https://localhost:8080/",
          "height": 1000,
          "referenced_widgets": [
            "c803b6d821b64b0bb3f84503e991b363",
            "5e0207ea71614a2bb7f5157af167416e",
            "d2e6d4b2bfa247b283c7a28199781451",
            "3f3fd5d05109486e85a59f24b93f9419",
            "8bd18dff8d3642d3afae8df6603882e6",
            "eaf8ed28d0b24ce083568836fc90e889",
            "aac88e9b23c7490ca4092518aa32d463"
          ]
        },
        "id": "u9Fbi2vzRdt_",
        "outputId": "44d4ea10-649e-4061-f76b-7ac7370eb902"
      },
      "execution_count": null,
      "outputs": [
        {
          "output_type": "display_data",
          "data": {
            "text/plain": [
              "interactive(children=(FloatSlider(value=0.5, description='threshold', max=0.5, step=0.001), Output()), _dom_cl…"
            ],
            "application/vnd.jupyter.widget-view+json": {
              "version_major": 2,
              "version_minor": 0,
              "model_id": "c803b6d821b64b0bb3f84503e991b363"
            }
          },
          "metadata": {}
        },
        {
          "output_type": "execute_result",
          "data": {
            "text/plain": [
              "<function __main__.explore_threshold(y_true, y_pred_proba, threshold=0.5)>"
            ]
          },
          "metadata": {},
          "execution_count": 66
        },
        {
          "output_type": "display_data",
          "data": {
            "text/plain": [
              "<Figure size 432x288 with 1 Axes>"
            ],
            "image/png": "[encoded data removed]"
          },
          "metadata": {
            "needs_background": "light"
          }
        },
        {
          "output_type": "display_data",
          "data": {
            "text/plain": [
              "<Figure size 432x288 with 1 Axes>"
            ],
            "image/png": "[encoded data removed]"
          },
          "metadata": {
            "needs_background": "light"
          }
        },
        {
          "output_type": "display_data",
          "data": {
            "text/plain": [
              "<Figure size 432x288 with 1 Axes>"
            ],
            "image/png": "[encoded data removed]"
          },
          "metadata": {
            "needs_background": "light"
          }
        },
        {
          "output_type": "display_data",
          "data": {
            "text/plain": [
              "<Figure size 432x288 with 1 Axes>"
            ],
            "image/png": "[encoded data removed]"
          },
          "metadata": {
            "needs_background": "light"
          }
        },
        {
          "output_type": "display_data",
          "data": {
            "text/plain": [
              "<Figure size 432x288 with 1 Axes>"
            ],
            "image/png": "[encoded data removed]"
          },
          "metadata": {
            "needs_background": "light"
          }
        },
        {
          "output_type": "display_data",
          "data": {
            "text/plain": [
              "<Figure size 432x288 with 1 Axes>"
            ],
            "image/png": "[encoded data removed]"
          },
          "metadata": {
            "needs_background": "light"
          }
        },
        {
          "output_type": "display_data",
          "data": {
            "text/plain": [
              "<Figure size 432x288 with 1 Axes>"
            ],
            "image/png": "[encoded data removed]"
          },
          "metadata": {
            "needs_background": "light"
          }
        },
        {
          "output_type": "display_data",
          "data": {
            "text/plain": [
              "<Figure size 432x288 with 1 Axes>"
            ],
            "image/png": "[encoded data removed]"
          },
          "metadata": {
            "needs_background": "light"
          }
        },
        {
          "output_type": "display_data",
          "data": {
            "text/plain": [
              "<Figure size 432x288 with 1 Axes>"
            ],
            "image/png": "[encoded data removed]"
          },
          "metadata": {
            "needs_background": "light"
          }
        },
        {
          "output_type": "display_data",
          "data": {
            "text/plain": [
              "<Figure size 432x288 with 1 Axes>"
            ],
            "image/png": "[encoded data removed]"
          },
          "metadata": {
            "needs_background": "light"
          }
        },
        {
          "output_type": "display_data",
          "data": {
            "text/plain": [
              "<Figure size 432x288 with 1 Axes>"
            ],
            "image/png": "[encoded data removed]"
          },
          "metadata": {
            "needs_background": "light"
          }
        },
        {
          "output_type": "display_data",
          "data": {
            "text/plain": [
              "<Figure size 432x288 with 1 Axes>"
            ],
            "image/png": "[encoded data removed]"
          },
          "metadata": {
            "needs_background": "light"
          }
        },
        {
          "output_type": "display_data",
          "data": {
            "text/plain": [
              "<Figure size 432x288 with 1 Axes>"
            ],
            "image/png": "[encoded data removed]"
          },
          "metadata": {
            "needs_background": "light"
          }
        },
        {
          "output_type": "display_data",
          "data": {
            "text/plain": [
              "<Figure size 432x288 with 1 Axes>"
            ],
            "image/png": "[encoded data removed]"
          },
          "metadata": {
            "needs_background": "light"
          }
        },
        {
          "output_type": "display_data",
          "data": {
            "text/plain": [
              "<Figure size 432x288 with 1 Axes>"
            ],
            "image/png": "[encoded data removed]"
          },
          "metadata": {
            "needs_background": "light"
          }
        },
        {
          "output_type": "display_data",
          "data": {
            "text/plain": [
              "<Figure size 432x288 with 1 Axes>"
            ],
            "image/png": "[encoded data removed]"
          },
          "metadata": {
            "needs_background": "light"
          }
        },
        {
          "output_type": "display_data",
          "data": {
            "text/plain": [
              "<Figure size 432x288 with 1 Axes>"
            ],
            "image/png": "[encoded data removed]"
          },
          "metadata": {
            "needs_background": "light"
          }
        },
        {
          "output_type": "display_data",
          "data": {
            "text/plain": [
              "<Figure size 432x288 with 1 Axes>"
            ],
            "image/png": "[encoded data removed]"
          },
          "metadata": {
            "needs_background": "light"
          }
        },
        {
          "output_type": "display_data",
          "data": {
            "text/plain": [
              "<Figure size 432x288 with 1 Axes>"
            ],
            "image/png": "[encoded data removed]"
          },
          "metadata": {
            "needs_background": "light"
          }
        }
      ]
    },
    {
      "cell_type": "code",
      "source": [
        "xgb_test_proba = xgb_clf.predict_proba(test_encoded)[:, 1]\n",
        "thresh = 0.15\n",
        "xgb_test_thresh = xgb_test_proba > thresh\n",
        "xgb_test_zeroone = zeroone(xgb_test_thresh)\n",
        "pd.DataFrame(\n",
        "    {'ID' : index, \n",
        "     'Y_LABEL' : xgb_test_zeroone}\n",
        ").to_csv('test_second_try.csv', index = False)"
      ],
      "metadata": {
        "id": "5GVrEeTjSBNL"
      },
      "execution_count": null,
      "outputs": []
    },
    {
      "cell_type": "code",
      "source": [],
      "metadata": {
        "id": "IrSmEnaJS0mg"
      },
      "execution_count": null,
      "outputs": []
    }
  ],
  "metadata": {
    "colab": {
      "provenance": []
    },
    "kernelspec": {
      "display_name": "Python 3",
      "name": "python3"
    },
    "language_info": {
      "name": "python"
    },
    "widgets": {
      "application/vnd.jupyter.widget-state+json": {
        "8b470aa2d5d544c88785923fe9fc3c44": {
          "model_module": "@jupyter-widgets/controls",
          "model_name": "VBoxModel",
          "model_module_version": "1.5.0",
          "state": {
            "_dom_classes": [
              "widget-interact"
            ],
            "_model_module": "@jupyter-widgets/controls",
            "_model_module_version": "1.5.0",
            "_model_name": "VBoxModel",
            "_view_count": null,
            "_view_module": "@jupyter-widgets/controls",
            "_view_module_version": "1.5.0",
            "_view_name": "VBoxView",
            "box_style": "",
            "children": [
              "IPY_MODEL_93796adcbaa4449ab53f7a1e3af5f615",
              "IPY_MODEL_174b4533c05749e59602e429703a5b77"
            ],
            "layout": "IPY_MODEL_e87a7143359746729f3bf5c37f2cade9"
          }
        },
        "93796adcbaa4449ab53f7a1e3af5f615": {
          "model_module": "@jupyter-widgets/controls",
          "model_name": "FloatSliderModel",
          "model_module_version": "1.5.0",
          "state": {
            "_dom_classes": [],
            "_model_module": "@jupyter-widgets/controls",
            "_model_module_version": "1.5.0",
            "_model_name": "FloatSliderModel",
            "_view_count": null,
            "_view_module": "@jupyter-widgets/controls",
            "_view_module_version": "1.5.0",
            "_view_name": "FloatSliderView",
            "continuous_update": true,
            "description": "threshold",
            "description_tooltip": null,
            "disabled": false,
            "layout": "IPY_MODEL_b6c03659fb4549c9b98d19a684e07675",
            "max": 0.5,
            "min": 0,
            "orientation": "horizontal",
            "readout": true,
            "readout_format": ".2f",
            "step": 0.001,
            "style": "IPY_MODEL_f87b2f1355eb4b3496306ffe778399d3",
            "value": 0.431
          }
        },
        "174b4533c05749e59602e429703a5b77": {
          "model_module": "@jupyter-widgets/output",
          "model_name": "OutputModel",
          "model_module_version": "1.0.0",
          "state": {
            "_dom_classes": [],
            "_model_module": "@jupyter-widgets/output",
            "_model_module_version": "1.0.0",
            "_model_name": "OutputModel",
            "_view_count": null,
            "_view_module": "@jupyter-widgets/output",
            "_view_module_version": "1.0.0",
            "_view_name": "OutputView",
            "layout": "IPY_MODEL_7df563011e6a4a518c8016dbe14797e3",
            "msg_id": "",
            "outputs": [
              {
                "output_type": "stream",
                "name": "stdout",
                "text": [
                  "              precision    recall  f1-score   support\n",
                  "\n",
                  "           0       0.92      0.98      0.95      2578\n",
                  "           1       0.26      0.09      0.13       241\n",
                  "\n",
                  "    accuracy                           0.90      2819\n",
                  "   macro avg       0.59      0.53      0.54      2819\n",
                  "weighted avg       0.86      0.90      0.88      2819\n",
                  "\n"
                ]
              }
            ]
          }
        },
        "e87a7143359746729f3bf5c37f2cade9": {
          "model_module": "@jupyter-widgets/base",
          "model_name": "LayoutModel",
          "model_module_version": "1.2.0",
          "state": {
            "_model_module": "@jupyter-widgets/base",
            "_model_module_version": "1.2.0",
            "_model_name": "LayoutModel",
            "_view_count": null,
            "_view_module": "@jupyter-widgets/base",
            "_view_module_version": "1.2.0",
            "_view_name": "LayoutView",
            "align_content": null,
            "align_items": null,
            "align_self": null,
            "border": null,
            "bottom": null,
            "display": null,
            "flex": null,
            "flex_flow": null,
            "grid_area": null,
            "grid_auto_columns": null,
            "grid_auto_flow": null,
            "grid_auto_rows": null,
            "grid_column": null,
            "grid_gap": null,
            "grid_row": null,
            "grid_template_areas": null,
            "grid_template_columns": null,
            "grid_template_rows": null,
            "height": null,
            "justify_content": null,
            "justify_items": null,
            "left": null,
            "margin": null,
            "max_height": null,
            "max_width": null,
            "min_height": null,
            "min_width": null,
            "object_fit": null,
            "object_position": null,
            "order": null,
            "overflow": null,
            "overflow_x": null,
            "overflow_y": null,
            "padding": null,
            "right": null,
            "top": null,
            "visibility": null,
            "width": null
          }
        },
        "b6c03659fb4549c9b98d19a684e07675": {
          "model_module": "@jupyter-widgets/base",
          "model_name": "LayoutModel",
          "model_module_version": "1.2.0",
          "state": {
            "_model_module": "@jupyter-widgets/base",
            "_model_module_version": "1.2.0",
            "_model_name": "LayoutModel",
            "_view_count": null,
            "_view_module": "@jupyter-widgets/base",
            "_view_module_version": "1.2.0",
            "_view_name": "LayoutView",
            "align_content": null,
            "align_items": null,
            "align_self": null,
            "border": null,
            "bottom": null,
            "display": null,
            "flex": null,
            "flex_flow": null,
            "grid_area": null,
            "grid_auto_columns": null,
            "grid_auto_flow": null,
            "grid_auto_rows": null,
            "grid_column": null,
            "grid_gap": null,
            "grid_row": null,
            "grid_template_areas": null,
            "grid_template_columns": null,
            "grid_template_rows": null,
            "height": null,
            "justify_content": null,
            "justify_items": null,
            "left": null,
            "margin": null,
            "max_height": null,
            "max_width": null,
            "min_height": null,
            "min_width": null,
            "object_fit": null,
            "object_position": null,
            "order": null,
            "overflow": null,
            "overflow_x": null,
            "overflow_y": null,
            "padding": null,
            "right": null,
            "top": null,
            "visibility": null,
            "width": null
          }
        },
        "f87b2f1355eb4b3496306ffe778399d3": {
          "model_module": "@jupyter-widgets/controls",
          "model_name": "SliderStyleModel",
          "model_module_version": "1.5.0",
          "state": {
            "_model_module": "@jupyter-widgets/controls",
            "_model_module_version": "1.5.0",
            "_model_name": "SliderStyleModel",
            "_view_count": null,
            "_view_module": "@jupyter-widgets/base",
            "_view_module_version": "1.2.0",
            "_view_name": "StyleView",
            "description_width": "",
            "handle_color": null
          }
        },
        "7df563011e6a4a518c8016dbe14797e3": {
          "model_module": "@jupyter-widgets/base",
          "model_name": "LayoutModel",
          "model_module_version": "1.2.0",
          "state": {
            "_model_module": "@jupyter-widgets/base",
            "_model_module_version": "1.2.0",
            "_model_name": "LayoutModel",
            "_view_count": null,
            "_view_module": "@jupyter-widgets/base",
            "_view_module_version": "1.2.0",
            "_view_name": "LayoutView",
            "align_content": null,
            "align_items": null,
            "align_self": null,
            "border": null,
            "bottom": null,
            "display": null,
            "flex": null,
            "flex_flow": null,
            "grid_area": null,
            "grid_auto_columns": null,
            "grid_auto_flow": null,
            "grid_auto_rows": null,
            "grid_column": null,
            "grid_gap": null,
            "grid_row": null,
            "grid_template_areas": null,
            "grid_template_columns": null,
            "grid_template_rows": null,
            "height": null,
            "justify_content": null,
            "justify_items": null,
            "left": null,
            "margin": null,
            "max_height": null,
            "max_width": null,
            "min_height": null,
            "min_width": null,
            "object_fit": null,
            "object_position": null,
            "order": null,
            "overflow": null,
            "overflow_x": null,
            "overflow_y": null,
            "padding": null,
            "right": null,
            "top": null,
            "visibility": null,
            "width": null
          }
        },
        "c0e5f44bc33b4e1db09d3a9b1feefb00": {
          "model_module": "@jupyter-widgets/controls",
          "model_name": "VBoxModel",
          "model_module_version": "1.5.0",
          "state": {
            "_dom_classes": [
              "widget-interact"
            ],
            "_model_module": "@jupyter-widgets/controls",
            "_model_module_version": "1.5.0",
            "_model_name": "VBoxModel",
            "_view_count": null,
            "_view_module": "@jupyter-widgets/controls",
            "_view_module_version": "1.5.0",
            "_view_name": "VBoxView",
            "box_style": "",
            "children": [
              "IPY_MODEL_f8756e8fd4994e44ac31d4fa301234cb",
              "IPY_MODEL_d119a849e2334539858b91e4d5bd77ca"
            ],
            "layout": "IPY_MODEL_9d7177ad88c84d2da0b0ed14885f7fc0"
          }
        },
        "f8756e8fd4994e44ac31d4fa301234cb": {
          "model_module": "@jupyter-widgets/controls",
          "model_name": "FloatSliderModel",
          "model_module_version": "1.5.0",
          "state": {
            "_dom_classes": [],
            "_model_module": "@jupyter-widgets/controls",
            "_model_module_version": "1.5.0",
            "_model_name": "FloatSliderModel",
            "_view_count": null,
            "_view_module": "@jupyter-widgets/controls",
            "_view_module_version": "1.5.0",
            "_view_name": "FloatSliderView",
            "continuous_update": true,
            "description": "threshold",
            "description_tooltip": null,
            "disabled": false,
            "layout": "IPY_MODEL_e484fa005f95480496c52c84f213a174",
            "max": 1,
            "min": 0,
            "orientation": "horizontal",
            "readout": true,
            "readout_format": ".2f",
            "step": 0.001,
            "style": "IPY_MODEL_0ecd59426264491cbbebf93d2576c06b",
            "value": 0.184
          }
        },
        "d119a849e2334539858b91e4d5bd77ca": {
          "model_module": "@jupyter-widgets/output",
          "model_name": "OutputModel",
          "model_module_version": "1.0.0",
          "state": {
            "_dom_classes": [],
            "_model_module": "@jupyter-widgets/output",
            "_model_module_version": "1.0.0",
            "_model_name": "OutputModel",
            "_view_count": null,
            "_view_module": "@jupyter-widgets/output",
            "_view_module_version": "1.0.0",
            "_view_name": "OutputView",
            "layout": "IPY_MODEL_9992c0d3a27d4721bf85eae997864c6f",
            "msg_id": "",
            "outputs": [
              {
                "output_type": "display_data",
                "data": {
                  "text/plain": "<Figure size 432x288 with 1 Axes>",
                  "image/png": "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\n"
                },
                "metadata": {
                  "needs_background": "light"
                }
              },
              {
                "output_type": "stream",
                "name": "stdout",
                "text": [
                  "              precision    recall  f1-score   support\n",
                  "\n",
                  "           0       0.93      0.96      0.94      2578\n",
                  "           1       0.32      0.20      0.24       241\n",
                  "\n",
                  "    accuracy                           0.90      2819\n",
                  "   macro avg       0.63      0.58      0.59      2819\n",
                  "weighted avg       0.88      0.90      0.88      2819\n",
                  "\n"
                ]
              }
            ]
          }
        },
        "9d7177ad88c84d2da0b0ed14885f7fc0": {
          "model_module": "@jupyter-widgets/base",
          "model_name": "LayoutModel",
          "model_module_version": "1.2.0",
          "state": {
            "_model_module": "@jupyter-widgets/base",
            "_model_module_version": "1.2.0",
            "_model_name": "LayoutModel",
            "_view_count": null,
            "_view_module": "@jupyter-widgets/base",
            "_view_module_version": "1.2.0",
            "_view_name": "LayoutView",
            "align_content": null,
            "align_items": null,
            "align_self": null,
            "border": null,
            "bottom": null,
            "display": null,
            "flex": null,
            "flex_flow": null,
            "grid_area": null,
            "grid_auto_columns": null,
            "grid_auto_flow": null,
            "grid_auto_rows": null,
            "grid_column": null,
            "grid_gap": null,
            "grid_row": null,
            "grid_template_areas": null,
            "grid_template_columns": null,
            "grid_template_rows": null,
            "height": null,
            "justify_content": null,
            "justify_items": null,
            "left": null,
            "margin": null,
            "max_height": null,
            "max_width": null,
            "min_height": null,
            "min_width": null,
            "object_fit": null,
            "object_position": null,
            "order": null,
            "overflow": null,
            "overflow_x": null,
            "overflow_y": null,
            "padding": null,
            "right": null,
            "top": null,
            "visibility": null,
            "width": null
          }
        },
        "e484fa005f95480496c52c84f213a174": {
          "model_module": "@jupyter-widgets/base",
          "model_name": "LayoutModel",
          "model_module_version": "1.2.0",
          "state": {
            "_model_module": "@jupyter-widgets/base",
            "_model_module_version": "1.2.0",
            "_model_name": "LayoutModel",
            "_view_count": null,
            "_view_module": "@jupyter-widgets/base",
            "_view_module_version": "1.2.0",
            "_view_name": "LayoutView",
            "align_content": null,
            "align_items": null,
            "align_self": null,
            "border": null,
            "bottom": null,
            "display": null,
            "flex": null,
            "flex_flow": null,
            "grid_area": null,
            "grid_auto_columns": null,
            "grid_auto_flow": null,
            "grid_auto_rows": null,
            "grid_column": null,
            "grid_gap": null,
            "grid_row": null,
            "grid_template_areas": null,
            "grid_template_columns": null,
            "grid_template_rows": null,
            "height": null,
            "justify_content": null,
            "justify_items": null,
            "left": null,
            "margin": null,
            "max_height": null,
            "max_width": null,
            "min_height": null,
            "min_width": null,
            "object_fit": null,
            "object_position": null,
            "order": null,
            "overflow": null,
            "overflow_x": null,
            "overflow_y": null,
            "padding": null,
            "right": null,
            "top": null,
            "visibility": null,
            "width": null
          }
        },
        "0ecd59426264491cbbebf93d2576c06b": {
          "model_module": "@jupyter-widgets/controls",
          "model_name": "SliderStyleModel",
          "model_module_version": "1.5.0",
          "state": {
            "_model_module": "@jupyter-widgets/controls",
            "_model_module_version": "1.5.0",
            "_model_name": "SliderStyleModel",
            "_view_count": null,
            "_view_module": "@jupyter-widgets/base",
            "_view_module_version": "1.2.0",
            "_view_name": "StyleView",
            "description_width": "",
            "handle_color": null
          }
        },
        "9992c0d3a27d4721bf85eae997864c6f": {
          "model_module": "@jupyter-widgets/base",
          "model_name": "LayoutModel",
          "model_module_version": "1.2.0",
          "state": {
            "_model_module": "@jupyter-widgets/base",
            "_model_module_version": "1.2.0",
            "_model_name": "LayoutModel",
            "_view_count": null,
            "_view_module": "@jupyter-widgets/base",
            "_view_module_version": "1.2.0",
            "_view_name": "LayoutView",
            "align_content": null,
            "align_items": null,
            "align_self": null,
            "border": null,
            "bottom": null,
            "display": null,
            "flex": null,
            "flex_flow": null,
            "grid_area": null,
            "grid_auto_columns": null,
            "grid_auto_flow": null,
            "grid_auto_rows": null,
            "grid_column": null,
            "grid_gap": null,
            "grid_row": null,
            "grid_template_areas": null,
            "grid_template_columns": null,
            "grid_template_rows": null,
            "height": null,
            "justify_content": null,
            "justify_items": null,
            "left": null,
            "margin": null,
            "max_height": null,
            "max_width": null,
            "min_height": null,
            "min_width": null,
            "object_fit": null,
            "object_position": null,
            "order": null,
            "overflow": null,
            "overflow_x": null,
            "overflow_y": null,
            "padding": null,
            "right": null,
            "top": null,
            "visibility": null,
            "width": null
          }
        },
        "c803b6d821b64b0bb3f84503e991b363": {
          "model_module": "@jupyter-widgets/controls",
          "model_name": "VBoxModel",
          "model_module_version": "1.5.0",
          "state": {
            "_dom_classes": [
              "widget-interact"
            ],
            "_model_module": "@jupyter-widgets/controls",
            "_model_module_version": "1.5.0",
            "_model_name": "VBoxModel",
            "_view_count": null,
            "_view_module": "@jupyter-widgets/controls",
            "_view_module_version": "1.5.0",
            "_view_name": "VBoxView",
            "box_style": "",
            "children": [
              "IPY_MODEL_5e0207ea71614a2bb7f5157af167416e",
              "IPY_MODEL_d2e6d4b2bfa247b283c7a28199781451"
            ],
            "layout": "IPY_MODEL_3f3fd5d05109486e85a59f24b93f9419"
          }
        },
        "5e0207ea71614a2bb7f5157af167416e": {
          "model_module": "@jupyter-widgets/controls",
          "model_name": "FloatSliderModel",
          "model_module_version": "1.5.0",
          "state": {
            "_dom_classes": [],
            "_model_module": "@jupyter-widgets/controls",
            "_model_module_version": "1.5.0",
            "_model_name": "FloatSliderModel",
            "_view_count": null,
            "_view_module": "@jupyter-widgets/controls",
            "_view_module_version": "1.5.0",
            "_view_name": "FloatSliderView",
            "continuous_update": true,
            "description": "threshold",
            "description_tooltip": null,
            "disabled": false,
            "layout": "IPY_MODEL_8bd18dff8d3642d3afae8df6603882e6",
            "max": 0.5,
            "min": 0,
            "orientation": "horizontal",
            "readout": true,
            "readout_format": ".2f",
            "step": 0.001,
            "style": "IPY_MODEL_eaf8ed28d0b24ce083568836fc90e889",
            "value": 0.153
          }
        },
        "d2e6d4b2bfa247b283c7a28199781451": {
          "model_module": "@jupyter-widgets/output",
          "model_name": "OutputModel",
          "model_module_version": "1.0.0",
          "state": {
            "_dom_classes": [],
            "_model_module": "@jupyter-widgets/output",
            "_model_module_version": "1.0.0",
            "_model_name": "OutputModel",
            "_view_count": null,
            "_view_module": "@jupyter-widgets/output",
            "_view_module_version": "1.0.0",
            "_view_name": "OutputView",
            "layout": "IPY_MODEL_aac88e9b23c7490ca4092518aa32d463",
            "msg_id": "",
            "outputs": [
              {
                "output_type": "stream",
                "name": "stdout",
                "text": [
                  "              precision    recall  f1-score   support\n",
                  "\n",
                  "           0       0.93      0.82      0.87      2578\n",
                  "           1       0.16      0.36      0.22       241\n",
                  "\n",
                  "    accuracy                           0.78      2819\n",
                  "   macro avg       0.55      0.59      0.55      2819\n",
                  "weighted avg       0.87      0.78      0.82      2819\n",
                  "\n"
                ]
              }
            ]
          }
        },
        "3f3fd5d05109486e85a59f24b93f9419": {
          "model_module": "@jupyter-widgets/base",
          "model_name": "LayoutModel",
          "model_module_version": "1.2.0",
          "state": {
            "_model_module": "@jupyter-widgets/base",
            "_model_module_version": "1.2.0",
            "_model_name": "LayoutModel",
            "_view_count": null,
            "_view_module": "@jupyter-widgets/base",
            "_view_module_version": "1.2.0",
            "_view_name": "LayoutView",
            "align_content": null,
            "align_items": null,
            "align_self": null,
            "border": null,
            "bottom": null,
            "display": null,
            "flex": null,
            "flex_flow": null,
            "grid_area": null,
            "grid_auto_columns": null,
            "grid_auto_flow": null,
            "grid_auto_rows": null,
            "grid_column": null,
            "grid_gap": null,
            "grid_row": null,
            "grid_template_areas": null,
            "grid_template_columns": null,
            "grid_template_rows": null,
            "height": null,
            "justify_content": null,
            "justify_items": null,
            "left": null,
            "margin": null,
            "max_height": null,
            "max_width": null,
            "min_height": null,
            "min_width": null,
            "object_fit": null,
            "object_position": null,
            "order": null,
            "overflow": null,
            "overflow_x": null,
            "overflow_y": null,
            "padding": null,
            "right": null,
            "top": null,
            "visibility": null,
            "width": null
          }
        },
        "8bd18dff8d3642d3afae8df6603882e6": {
          "model_module": "@jupyter-widgets/base",
          "model_name": "LayoutModel",
          "model_module_version": "1.2.0",
          "state": {
            "_model_module": "@jupyter-widgets/base",
            "_model_module_version": "1.2.0",
            "_model_name": "LayoutModel",
            "_view_count": null,
            "_view_module": "@jupyter-widgets/base",
            "_view_module_version": "1.2.0",
            "_view_name": "LayoutView",
            "align_content": null,
            "align_items": null,
            "align_self": null,
            "border": null,
            "bottom": null,
            "display": null,
            "flex": null,
            "flex_flow": null,
            "grid_area": null,
            "grid_auto_columns": null,
            "grid_auto_flow": null,
            "grid_auto_rows": null,
            "grid_column": null,
            "grid_gap": null,
            "grid_row": null,
            "grid_template_areas": null,
            "grid_template_columns": null,
            "grid_template_rows": null,
            "height": null,
            "justify_content": null,
            "justify_items": null,
            "left": null,
            "margin": null,
            "max_height": null,
            "max_width": null,
            "min_height": null,
            "min_width": null,
            "object_fit": null,
            "object_position": null,
            "order": null,
            "overflow": null,
            "overflow_x": null,
            "overflow_y": null,
            "padding": null,
            "right": null,
            "top": null,
            "visibility": null,
            "width": null
          }
        },
        "eaf8ed28d0b24ce083568836fc90e889": {
          "model_module": "@jupyter-widgets/controls",
          "model_name": "SliderStyleModel",
          "model_module_version": "1.5.0",
          "state": {
            "_model_module": "@jupyter-widgets/controls",
            "_model_module_version": "1.5.0",
            "_model_name": "SliderStyleModel",
            "_view_count": null,
            "_view_module": "@jupyter-widgets/base",
            "_view_module_version": "1.2.0",
            "_view_name": "StyleView",
            "description_width": "",
            "handle_color": null
          }
        },
        "aac88e9b23c7490ca4092518aa32d463": {
          "model_module": "@jupyter-widgets/base",
          "model_name": "LayoutModel",
          "model_module_version": "1.2.0",
          "state": {
            "_model_module": "@jupyter-widgets/base",
            "_model_module_version": "1.2.0",
            "_model_name": "LayoutModel",
            "_view_count": null,
            "_view_module": "@jupyter-widgets/base",
            "_view_module_version": "1.2.0",
            "_view_name": "LayoutView",
            "align_content": null,
            "align_items": null,
            "align_self": null,
            "border": null,
            "bottom": null,
            "display": null,
            "flex": null,
            "flex_flow": null,
            "grid_area": null,
            "grid_auto_columns": null,
            "grid_auto_flow": null,
            "grid_auto_rows": null,
            "grid_column": null,
            "grid_gap": null,
            "grid_row": null,
            "grid_template_areas": null,
            "grid_template_columns": null,
            "grid_template_rows": null,
            "height": null,
            "justify_content": null,
            "justify_items": null,
            "left": null,
            "margin": null,
            "max_height": null,
            "max_width": null,
            "min_height": null,
            "min_width": null,
            "object_fit": null,
            "object_position": null,
            "order": null,
            "overflow": null,
            "overflow_x": null,
            "overflow_y": null,
            "padding": null,
            "right": null,
            "top": null,
            "visibility": null,
            "width": null
          }
        }
      }
    }
  },
  "nbformat": 4,
  "nbformat_minor": 0
}